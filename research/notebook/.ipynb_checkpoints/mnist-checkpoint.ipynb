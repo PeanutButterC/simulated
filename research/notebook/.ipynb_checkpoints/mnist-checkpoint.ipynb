{
 "cells": [
  {
   "cell_type": "code",
   "execution_count": 1,
   "metadata": {},
   "outputs": [],
   "source": [
    "import tensorflow as tf\n",
    "import numpy as np\n",
    "import pandas as pd\n",
    "from tqdm import tqdm\n",
    "import sys\n",
    "sys.path.append('../scripts')\n",
    "from paths import SIMULATED_PATH, SIMULATED_DATA_ROOT\n",
    "import matplotlib.pyplot as plt"
   ]
  },
  {
   "cell_type": "markdown",
   "metadata": {},
   "source": [
    "### Mnist dataset"
   ]
  },
  {
   "cell_type": "code",
   "execution_count": 2,
   "metadata": {},
   "outputs": [],
   "source": [
    "mnist_data = tf.keras.datasets.mnist.load_data()\n",
    "x = {\n",
    "    'train': mnist_data[0][0],\n",
    "    'test': mnist_data[1][0]\n",
    "}\n",
    "y = {\n",
    "    'train': mnist_data[0][1],\n",
    "    'test': mnist_data[1][1]\n",
    "}"
   ]
  },
  {
   "cell_type": "code",
   "execution_count": 3,
   "metadata": {},
   "outputs": [],
   "source": [
    "def visualize(data):\n",
    "    fig, ax = plt.subplots(3, 3, figsize=(8, 8))\n",
    "    for i in range(9):\n",
    "        ax[i // 3, i % 3].imshow(data[i])\n",
    "        ax[i // 3, i % 3].set_xticks([])\n",
    "        ax[i // 3, i % 3].set_yticks([])\n",
    "    plt.show()"
   ]
  },
  {
   "cell_type": "code",
   "execution_count": 4,
   "metadata": {},
   "outputs": [
    {
     "data": {
      "image/png": "[encoded data removed]",
      "text/plain": [
       "<Figure size 576x576 with 9 Axes>"
      ]
     },
     "metadata": {},
     "output_type": "display_data"
    }
   ],
   "source": [
    "visualize(x['train'])"
   ]
  },
  {
   "cell_type": "markdown",
   "metadata": {},
   "source": [
    "### Evaluate linear classifier"
   ]
  },
  {
   "cell_type": "code",
   "execution_count": 5,
   "metadata": {},
   "outputs": [
    {
     "name": "stdout",
     "output_type": "stream",
     "text": [
      "Epoch 1/999\n",
      "938/938 [==============================] - 6s 4ms/step - loss: 8.0353 - accuracy: 0.8144 - val_loss: 0.5631 - val_accuracy: 0.8903\n",
      "Epoch 2/999\n",
      "938/938 [==============================] - 4s 4ms/step - loss: 0.4155 - accuracy: 0.9110 - val_loss: 0.4042 - val_accuracy: 0.9178\n",
      "Epoch 3/999\n",
      "938/938 [==============================] - 4s 4ms/step - loss: 0.2792 - accuracy: 0.9297 - val_loss: 0.3183 - val_accuracy: 0.9328\n",
      "Epoch 4/999\n",
      "938/938 [==============================] - 4s 4ms/step - loss: 0.2186 - accuracy: 0.9425 - val_loss: 0.2776 - val_accuracy: 0.9354\n",
      "Epoch 5/999\n",
      "938/938 [==============================] - 4s 4ms/step - loss: 0.2085 - accuracy: 0.9454 - val_loss: 0.2885 - val_accuracy: 0.9459\n",
      "Epoch 00005: early stopping\n"
     ]
    },
    {
     "data": {
      "text/plain": [
       "<tensorflow.python.keras.callbacks.History at 0x255bdd26df0>"
      ]
     },
     "execution_count": 5,
     "metadata": {},
     "output_type": "execute_result"
    }
   ],
   "source": [
    "classifier = tf.keras.models.Sequential([\n",
    "    tf.keras.layers.Flatten(),\n",
    "    tf.keras.layers.Dense(128, activation='relu'),\n",
    "    tf.keras.layers.Dense(10, activation='softmax')\n",
    "])\n",
    "callbacks = [\n",
    "    tf.keras.callbacks.EarlyStopping(verbose=1)\n",
    "]\n",
    "classifier.compile(optimizer='adam', loss='sparse_categorical_crossentropy', metrics=['accuracy'])\n",
    "classifier.fit(x['train'], y['train'], validation_data=(x['test'], y['test']), epochs=999, batch_size=64, callbacks=callbacks)"
   ]
  },
  {
   "cell_type": "markdown",
   "metadata": {},
   "source": [
    "# Contrastive model"
   ]
  },
  {
   "cell_type": "code",
   "execution_count": 46,
   "metadata": {},
   "outputs": [],
   "source": [
    "batch_size = 256\n",
    "temperature = .1"
   ]
  },
  {
   "cell_type": "code",
   "execution_count": 47,
   "metadata": {},
   "outputs": [],
   "source": [
    "data_augmentation = tf.keras.Sequential([\n",
    "    tf.keras.layers.experimental.preprocessing.Rescaling(1 / 255.),\n",
    "    tf.keras.layers.experimental.preprocessing.RandomRotation(.1)\n",
    "])"
   ]
  },
  {
   "cell_type": "code",
   "execution_count": 48,
   "metadata": {},
   "outputs": [
    {
     "data": {
      "image/png": "[encoded data removed]",
      "text/plain": [
       "<Figure size 432x288 with 4 Axes>"
      ]
     },
     "metadata": {},
     "output_type": "display_data"
    }
   ],
   "source": [
    "x_aug = {}\n",
    "batch_size = 256\n",
    "for type in ['train', 'test']:\n",
    "    x_aug[type] = []\n",
    "    for i in range(0, x[type].shape[0] - batch_size + 1, batch_size):\n",
    "        x_batch = x[type][i:i+batch_size]\n",
    "        x_batch = tf.repeat(x_batch[:, :, :, tf.newaxis], 3, axis=-1)\n",
    "        x_batch_a = data_augmentation(x_batch)\n",
    "        x_batch_b = data_augmentation(x_batch)\n",
    "        x_batch_aug = tf.concat([x_batch_a, x_batch_b], axis=0)\n",
    "        x_aug[type].append(x_batch_aug)\n",
    "    x_aug[type] = tf.convert_to_tensor(x_aug[type], dtype=tf.float32)\n",
    "fig, ax = plt.subplots(2, 2)\n",
    "ax[0, 0].imshow(x_aug['train'][0, 0])\n",
    "ax[0, 1].imshow(x_aug['train'][0, batch_size])\n",
    "ax[1, 0].imshow(x_aug['train'][0, 1])\n",
    "ax[1, 1].imshow(x_aug['train'][0, batch_size + 1])\n",
    "for i in range(4):\n",
    "    ax[i // 2, i % 2].set_xticks([])\n",
    "    ax[i // 2, i % 2].set_yticks([])\n",
    "plt.show()"
   ]
  },
  {
   "cell_type": "code",
   "execution_count": 59,
   "metadata": {},
   "outputs": [],
   "source": [
    "class ContrastiveModel(tf.keras.Model):\n",
    "    def __init__(self):\n",
    "        super().__init__()\n",
    "        '''self.encoder = tf.keras.models.Sequential([\n",
    "            tf.keras.layers.Conv2D(32, kernel_size=(3, 3), activation='relu'),\n",
    "            tf.keras.layers.MaxPooling2D(pool_size=(2, 2)),\n",
    "            tf.keras.layers.Conv2D(64, kernel_size=(3, 3), activation='relu'),\n",
    "            tf.keras.layers.MaxPooling2D(pool_size=(2, 2)),\n",
    "            tf.keras.layers.Flatten(),\n",
    "            tf.keras.layers.Dropout(.5),\n",
    "            tf.keras.layers.Dense(128, activation='relu')\n",
    "        ])'''\n",
    "        self.encoder = tf.keras.models.Sequential([\n",
    "            tf.keras.layers.Flatten(),\n",
    "            tf.keras.layers.Dense(128, activation='relu'),\n",
    "            tf.keras.layers.Dense(128, activation='relu')\n",
    "        ])\n",
    "        self.training_head = tf.keras.layers.Dense(128)\n",
    "        \n",
    "    def call(self, x):\n",
    "        x = self.encoder(x)\n",
    "        x = self.training_head(x)\n",
    "        z_i, z_j = tf.split(x, 2, axis=0)\n",
    "        return z_i, z_j"
   ]
  },
  {
   "cell_type": "code",
   "execution_count": 60,
   "metadata": {},
   "outputs": [],
   "source": [
    "def contrastive_loss(z_i, z_j, temperature=1.0):\n",
    "    batch_size = tf.shape(z_i)[0]\n",
    "    labels = tf.one_hot(tf.range(batch_size), batch_size * 2)\n",
    "    mask = tf.one_hot(tf.range(batch_size), batch_size)\n",
    "    logits_aa = tf.matmul(z_i, z_i, transpose_b=True) / temperature\n",
    "    logits_aa -= mask * 1e9\n",
    "    logits_bb = tf.matmul(z_j, z_j, transpose_b=True) / temperature\n",
    "    logits_bb -= mask * 1e9\n",
    "    logits_ab = tf.matmul(z_i, z_j, transpose_b=True) / temperature\n",
    "    logits_ba = tf.matmul(z_j, z_i, transpose_b=True) / temperature\n",
    "    loss_a = tf.nn.softmax_cross_entropy_with_logits(labels, tf.concat([logits_ab, logits_aa], 1))\n",
    "    loss_b = tf.nn.softmax_cross_entropy_with_logits(labels, tf.concat([logits_ba, logits_bb], 1))\n",
    "    loss = tf.reduce_mean(loss_a + loss_b)\n",
    "    return loss, logits_ab, labels"
   ]
  },
  {
   "cell_type": "code",
   "execution_count": 61,
   "metadata": {},
   "outputs": [
    {
     "name": "stdout",
     "output_type": "stream",
     "text": [
      "Train loss: 4.514532566070557 Test loss: 1.60652494430542\n",
      "Improved\n",
      "Train loss: 0.94931960105896 Test loss: 0.6916796565055847\n",
      "Improved\n",
      "Train loss: 0.4088791310787201 Test loss: 0.38086003065109253\n",
      "Improved\n",
      "Train loss: 0.23442889750003815 Test loss: 0.26989519596099854\n",
      "Improved\n",
      "Train loss: 0.16988380253314972 Test loss: 0.22995053231716156\n",
      "Improved\n",
      "Train loss: 0.14121492207050323 Test loss: 0.2319725751876831\n",
      "Train loss: 0.13060423731803894 Test loss: 0.20734676718711853\n",
      "Improved\n",
      "Train loss: 0.1314667910337448 Test loss: 0.23689042031764984\n",
      "Train loss: 0.12216880172491074 Test loss: 0.20314200222492218\n",
      "Improved\n",
      "Train loss: 0.14969658851623535 Test loss: 0.21390677988529205\n",
      "Train loss: 0.12866586446762085 Test loss: 0.21022586524486542\n",
      "Train loss: 0.11874403059482574 Test loss: 0.24092476069927216\n",
      "Train loss: 0.12700170278549194 Test loss: 0.19103263318538666\n",
      "Improved\n",
      "Train loss: 0.10388112813234329 Test loss: 0.14357230067253113\n",
      "Improved\n",
      "Train loss: 0.12949901819229126 Test loss: 0.187498539686203\n",
      "Train loss: 0.1431359052658081 Test loss: 0.16541312634944916\n",
      "Train loss: 0.1182958111166954 Test loss: 0.1444859355688095\n",
      "Train loss: 0.09785062819719315 Test loss: 0.12300726026296616\n",
      "Improved\n",
      "Train loss: 0.06952938437461853 Test loss: 0.11399499326944351\n",
      "Improved\n",
      "Train loss: 0.12017873674631119 Test loss: 0.1729857176542282\n",
      "Train loss: 0.08779357373714447 Test loss: 0.14770300686359406\n",
      "Train loss: 0.08638428151607513 Test loss: 0.13625065982341766\n",
      "Train loss: 0.0839361697435379 Test loss: 0.12458888441324234\n",
      "Train loss: 0.09102778136730194 Test loss: 0.12630595266819\n"
     ]
    }
   ],
   "source": [
    "optimizer = tf.keras.optimizers.Adam()\n",
    "temperature = .1\n",
    "model = ContrastiveModel()\n",
    "best_test_loss = float('inf')\n",
    "k = 0\n",
    "for epoch in range(999):\n",
    "    train_loss_avg = tf.keras.metrics.Mean()\n",
    "    test_loss_avg = tf.keras.metrics.Mean()\n",
    "    for batch in x_aug['train']:\n",
    "        with tf.GradientTape() as tape:\n",
    "            z_i, z_j = model(batch)\n",
    "            loss, _, _ = contrastive_loss(z_i, z_j, temperature=temperature)\n",
    "            grads = tape.gradient(loss, model.trainable_variables)\n",
    "            optimizer.apply_gradients(zip(grads, model.trainable_variables))\n",
    "            train_loss_avg.update_state(loss)\n",
    "    for batch in x_aug['test']:\n",
    "        z_i, z_j = model(batch)\n",
    "        loss, _, _ = contrastive_loss(z_i, z_j, temperature=temperature)\n",
    "        test_loss_avg.update_state(loss)\n",
    "    train_loss = train_loss_avg.result()\n",
    "    test_loss = test_loss_avg.result()\n",
    "    print(f'Train loss: {train_loss} Test loss: {test_loss}')\n",
    "    if test_loss < best_test_loss:\n",
    "        k = 0\n",
    "        best_test_loss = test_loss\n",
    "        print('Improved')\n",
    "        model.save_weights('contrastive_weights.h5')\n",
    "    else:\n",
    "        k += 1\n",
    "        if k >= 5:\n",
    "            break"
   ]
  },
  {
   "cell_type": "code",
   "execution_count": 62,
   "metadata": {},
   "outputs": [
    {
     "name": "stdout",
     "output_type": "stream",
     "text": [
      "Test loss: 0.11399498\n"
     ]
    }
   ],
   "source": [
    "model.load_weights('contrastive_weights.h5')\n",
    "test_loss_avg = tf.keras.metrics.Mean()\n",
    "for batch in x_aug['test']:\n",
    "    z_i, z_j = model(batch)\n",
    "    loss, _, _ = contrastive_loss(z_i, z_j, temperature=temperature)\n",
    "    test_loss_avg.update_state(loss)\n",
    "print('Test loss: ' + str(test_loss_avg.result().numpy()))"
   ]
  },
  {
   "cell_type": "markdown",
   "metadata": {},
   "source": [
    "### Train supervised head"
   ]
  },
  {
   "cell_type": "code",
   "execution_count": 63,
   "metadata": {},
   "outputs": [],
   "source": [
    "class ContrastiveProbe(tf.keras.Model):\n",
    "    def __init__(self, model):\n",
    "        super().__init__()\n",
    "        self.model = model\n",
    "        self.model.trainable = False\n",
    "        self.supervised_head = tf.keras.models.Sequential([\n",
    "            tf.keras.layers.Dense(128, activation='relu'),\n",
    "            tf.keras.layers.Dense(10, activation='softmax')\n",
    "        ])\n",
    "        \n",
    "    def call(self, x):\n",
    "        x = self.model.encoder(x)\n",
    "        return self.supervised_head(x)"
   ]
  },
  {
   "cell_type": "code",
   "execution_count": 64,
   "metadata": {},
   "outputs": [],
   "source": [
    "resize = tf.keras.Sequential([\n",
    "    tf.keras.layers.experimental.preprocessing.Rescaling(1 / 255.)\n",
    "])\n",
    "\n",
    "x_probe = {}\n",
    "for type in ['train', 'test']:\n",
    "    x_probe[type] = tf.repeat(x[type][:, :, :, tf.newaxis], 3, axis=-1)\n",
    "    x_probe[type] = resize(x_probe[type])"
   ]
  },
  {
   "cell_type": "code",
   "execution_count": 65,
   "metadata": {},
   "outputs": [
    {
     "name": "stdout",
     "output_type": "stream",
     "text": [
      "Epoch 1/999\n",
      "235/235 [==============================] - 2s 5ms/step - loss: 1.4192 - accuracy: 0.5480 - val_loss: 0.7362 - val_accuracy: 0.7647\n",
      "Epoch 2/999\n",
      "235/235 [==============================] - 1s 5ms/step - loss: 0.7086 - accuracy: 0.7748 - val_loss: 0.6339 - val_accuracy: 0.7957\n",
      "Epoch 3/999\n",
      "235/235 [==============================] - 1s 5ms/step - loss: 0.6279 - accuracy: 0.7965 - val_loss: 0.5930 - val_accuracy: 0.8083\n",
      "Epoch 4/999\n",
      "235/235 [==============================] - 1s 5ms/step - loss: 0.5843 - accuracy: 0.8093 - val_loss: 0.5653 - val_accuracy: 0.8156\n",
      "Epoch 5/999\n",
      "235/235 [==============================] - 1s 5ms/step - loss: 0.5518 - accuracy: 0.8195 - val_loss: 0.5430 - val_accuracy: 0.8238\n",
      "Epoch 6/999\n",
      "235/235 [==============================] - 1s 6ms/step - loss: 0.5260 - accuracy: 0.8266 - val_loss: 0.5320 - val_accuracy: 0.8255\n",
      "Epoch 7/999\n",
      "235/235 [==============================] - 1s 6ms/step - loss: 0.5168 - accuracy: 0.8309 - val_loss: 0.5166 - val_accuracy: 0.8305\n",
      "Epoch 8/999\n",
      "235/235 [==============================] - 1s 6ms/step - loss: 0.4955 - accuracy: 0.8375 - val_loss: 0.5076 - val_accuracy: 0.8328\n",
      "Epoch 9/999\n",
      "235/235 [==============================] - 1s 5ms/step - loss: 0.4871 - accuracy: 0.8403 - val_loss: 0.4983 - val_accuracy: 0.8381\n",
      "Epoch 10/999\n",
      "235/235 [==============================] - 1s 6ms/step - loss: 0.4729 - accuracy: 0.8460 - val_loss: 0.4910 - val_accuracy: 0.8396\n",
      "Epoch 11/999\n",
      "235/235 [==============================] - 1s 5ms/step - loss: 0.4713 - accuracy: 0.8450 - val_loss: 0.4828 - val_accuracy: 0.8431\n",
      "Epoch 12/999\n",
      "235/235 [==============================] - 1s 6ms/step - loss: 0.4539 - accuracy: 0.8503 - val_loss: 0.4758 - val_accuracy: 0.8452\n",
      "Epoch 13/999\n",
      "235/235 [==============================] - 1s 6ms/step - loss: 0.4517 - accuracy: 0.8495 - val_loss: 0.4720 - val_accuracy: 0.8458\n",
      "Epoch 14/999\n",
      "235/235 [==============================] - 1s 5ms/step - loss: 0.4424 - accuracy: 0.8533 - val_loss: 0.4673 - val_accuracy: 0.8481\n",
      "Epoch 15/999\n",
      "235/235 [==============================] - 1s 4ms/step - loss: 0.4362 - accuracy: 0.8561 - val_loss: 0.4625 - val_accuracy: 0.8494\n",
      "Epoch 16/999\n",
      "235/235 [==============================] - 1s 4ms/step - loss: 0.4255 - accuracy: 0.8577 - val_loss: 0.4595 - val_accuracy: 0.8499\n",
      "Epoch 17/999\n",
      "235/235 [==============================] - 1s 5ms/step - loss: 0.4188 - accuracy: 0.8617 - val_loss: 0.4509 - val_accuracy: 0.8529\n",
      "Epoch 18/999\n",
      "235/235 [==============================] - 1s 5ms/step - loss: 0.4105 - accuracy: 0.8655 - val_loss: 0.4550 - val_accuracy: 0.8499\n",
      "Epoch 19/999\n",
      "235/235 [==============================] - 1s 5ms/step - loss: 0.4154 - accuracy: 0.8612 - val_loss: 0.4488 - val_accuracy: 0.8542\n",
      "Epoch 20/999\n",
      "235/235 [==============================] - 1s 6ms/step - loss: 0.4077 - accuracy: 0.8654 - val_loss: 0.4434 - val_accuracy: 0.8558\n",
      "Epoch 21/999\n",
      "235/235 [==============================] - 1s 6ms/step - loss: 0.3991 - accuracy: 0.8708 - val_loss: 0.4370 - val_accuracy: 0.8567\n",
      "Epoch 22/999\n",
      "235/235 [==============================] - 1s 5ms/step - loss: 0.4029 - accuracy: 0.8679 - val_loss: 0.4367 - val_accuracy: 0.8578\n",
      "Epoch 23/999\n",
      "235/235 [==============================] - 1s 5ms/step - loss: 0.3895 - accuracy: 0.8728 - val_loss: 0.4306 - val_accuracy: 0.8596\n",
      "Epoch 24/999\n",
      "235/235 [==============================] - 1s 6ms/step - loss: 0.3813 - accuracy: 0.8753 - val_loss: 0.4297 - val_accuracy: 0.8593\n",
      "Epoch 25/999\n",
      "235/235 [==============================] - 1s 6ms/step - loss: 0.3783 - accuracy: 0.8746 - val_loss: 0.4309 - val_accuracy: 0.8607\n",
      "Epoch 26/999\n",
      "235/235 [==============================] - 1s 6ms/step - loss: 0.3733 - accuracy: 0.8761 - val_loss: 0.4240 - val_accuracy: 0.8628\n",
      "Epoch 27/999\n",
      "235/235 [==============================] - 1s 6ms/step - loss: 0.3781 - accuracy: 0.8756 - val_loss: 0.4247 - val_accuracy: 0.8621\n",
      "Epoch 28/999\n",
      "235/235 [==============================] - 1s 6ms/step - loss: 0.3741 - accuracy: 0.8752 - val_loss: 0.4263 - val_accuracy: 0.8613\n",
      "Epoch 29/999\n",
      "235/235 [==============================] - 1s 6ms/step - loss: 0.3626 - accuracy: 0.8797 - val_loss: 0.4217 - val_accuracy: 0.8614\n",
      "Epoch 30/999\n",
      "235/235 [==============================] - 1s 6ms/step - loss: 0.3615 - accuracy: 0.8811 - val_loss: 0.4172 - val_accuracy: 0.8621\n",
      "Epoch 31/999\n",
      "235/235 [==============================] - 1s 6ms/step - loss: 0.3611 - accuracy: 0.8808 - val_loss: 0.4154 - val_accuracy: 0.8635\n",
      "Epoch 32/999\n",
      "235/235 [==============================] - 1s 6ms/step - loss: 0.3554 - accuracy: 0.8834 - val_loss: 0.4212 - val_accuracy: 0.8612\n",
      "Epoch 33/999\n",
      "235/235 [==============================] - 1s 5ms/step - loss: 0.3546 - accuracy: 0.8816 - val_loss: 0.4139 - val_accuracy: 0.8657\n",
      "Epoch 34/999\n",
      "235/235 [==============================] - 1s 6ms/step - loss: 0.3513 - accuracy: 0.8833 - val_loss: 0.4149 - val_accuracy: 0.8657\n",
      "Epoch 35/999\n",
      "235/235 [==============================] - 1s 6ms/step - loss: 0.3446 - accuracy: 0.8845 - val_loss: 0.4102 - val_accuracy: 0.8656\n",
      "Epoch 36/999\n",
      "235/235 [==============================] - 1s 6ms/step - loss: 0.3445 - accuracy: 0.8848 - val_loss: 0.4106 - val_accuracy: 0.8651\n",
      "Epoch 37/999\n",
      "235/235 [==============================] - 1s 6ms/step - loss: 0.3356 - accuracy: 0.8883 - val_loss: 0.4078 - val_accuracy: 0.8648\n",
      "Epoch 38/999\n",
      "235/235 [==============================] - 1s 6ms/step - loss: 0.3328 - accuracy: 0.8881 - val_loss: 0.4124 - val_accuracy: 0.8674\n",
      "Epoch 39/999\n",
      "235/235 [==============================] - 1s 6ms/step - loss: 0.3394 - accuracy: 0.8865 - val_loss: 0.4073 - val_accuracy: 0.8672\n",
      "Epoch 40/999\n",
      "235/235 [==============================] - 1s 6ms/step - loss: 0.3332 - accuracy: 0.8900 - val_loss: 0.4021 - val_accuracy: 0.8701\n",
      "Epoch 41/999\n",
      "235/235 [==============================] - 1s 5ms/step - loss: 0.3264 - accuracy: 0.8929 - val_loss: 0.4048 - val_accuracy: 0.8684\n",
      "Epoch 42/999\n",
      "235/235 [==============================] - 1s 5ms/step - loss: 0.3266 - accuracy: 0.8914 - val_loss: 0.4001 - val_accuracy: 0.8701\n",
      "Epoch 43/999\n",
      "235/235 [==============================] - 1s 5ms/step - loss: 0.3267 - accuracy: 0.8919 - val_loss: 0.4038 - val_accuracy: 0.8693\n",
      "Epoch 44/999\n",
      "235/235 [==============================] - 1s 5ms/step - loss: 0.3231 - accuracy: 0.8929 - val_loss: 0.4017 - val_accuracy: 0.8703\n",
      "Epoch 45/999\n",
      "235/235 [==============================] - 1s 6ms/step - loss: 0.3191 - accuracy: 0.8927 - val_loss: 0.4019 - val_accuracy: 0.8710\n",
      "Epoch 46/999\n",
      "235/235 [==============================] - 1s 6ms/step - loss: 0.3234 - accuracy: 0.8913 - val_loss: 0.4009 - val_accuracy: 0.8703\n",
      "Epoch 47/999\n",
      "235/235 [==============================] - 1s 6ms/step - loss: 0.3146 - accuracy: 0.8949 - val_loss: 0.4086 - val_accuracy: 0.8686\n",
      "Epoch 00047: early stopping\n"
     ]
    },
    {
     "data": {
      "text/plain": [
       "<tensorflow.python.keras.callbacks.History at 0x257e4719e50>"
      ]
     },
     "execution_count": 65,
     "metadata": {},
     "output_type": "execute_result"
    }
   ],
   "source": [
    "supervised = ContrastiveProbe(model)\n",
    "callbacks = [\n",
    "    tf.keras.callbacks.EarlyStopping(verbose=1, patience=5),\n",
    "    tf.keras.callbacks.ModelCheckpoint('contrastive_probe.h5', save_best_only=True)\n",
    "]\n",
    "supervised.compile(optimizer='adam', loss='sparse_categorical_crossentropy', metrics=['accuracy'])\n",
    "supervised.fit(x_probe['train'], y['train'], validation_data=(x_probe['test'], y['test']), batch_size=batch_size, epochs=999, callbacks=callbacks)"
   ]
  },
  {
   "cell_type": "code",
   "execution_count": 66,
   "metadata": {},
   "outputs": [
    {
     "name": "stdout",
     "output_type": "stream",
     "text": [
      "313/313 [==============================] - 1s 3ms/step - loss: 0.4001 - accuracy: 0.8701\n",
      "Accuracy: 0.870\n"
     ]
    }
   ],
   "source": [
    "supervised.load_weights('contrastive_probe.h5')\n",
    "loss, acc = supervised.evaluate(x_probe['test'], y['test'])\n",
    "print(f'Accuracy: {acc:.3f}')"
   ]
  },
  {
   "cell_type": "markdown",
   "metadata": {},
   "source": [
    "### Also try randomly initialized encoder"
   ]
  },
  {
   "cell_type": "code",
   "execution_count": 79,
   "metadata": {},
   "outputs": [
    {
     "name": "stdout",
     "output_type": "stream",
     "text": [
      "Epoch 1/999\n",
      "235/235 [==============================] - 2s 6ms/step - loss: 1.4620 - accuracy: 0.5356 - val_loss: 0.7432 - val_accuracy: 0.7658\n",
      "Epoch 2/999\n",
      "235/235 [==============================] - 1s 6ms/step - loss: 0.7252 - accuracy: 0.7692 - val_loss: 0.6371 - val_accuracy: 0.7980\n",
      "Epoch 3/999\n",
      "235/235 [==============================] - 1s 6ms/step - loss: 0.6363 - accuracy: 0.7936 - val_loss: 0.5962 - val_accuracy: 0.8064\n",
      "Epoch 4/999\n",
      "235/235 [==============================] - 1s 6ms/step - loss: 0.5845 - accuracy: 0.8107 - val_loss: 0.5704 - val_accuracy: 0.8149\n",
      "Epoch 5/999\n",
      "235/235 [==============================] - 1s 6ms/step - loss: 0.5632 - accuracy: 0.8162 - val_loss: 0.5488 - val_accuracy: 0.8204\n",
      "Epoch 6/999\n",
      "235/235 [==============================] - 1s 6ms/step - loss: 0.5341 - accuracy: 0.8231 - val_loss: 0.5396 - val_accuracy: 0.8240\n",
      "Epoch 7/999\n",
      "235/235 [==============================] - 1s 5ms/step - loss: 0.5203 - accuracy: 0.8279 - val_loss: 0.5219 - val_accuracy: 0.8285\n",
      "Epoch 8/999\n",
      "235/235 [==============================] - 1s 4ms/step - loss: 0.4982 - accuracy: 0.8378 - val_loss: 0.5093 - val_accuracy: 0.8331\n",
      "Epoch 9/999\n",
      "235/235 [==============================] - 1s 4ms/step - loss: 0.4892 - accuracy: 0.8368 - val_loss: 0.4936 - val_accuracy: 0.8407\n",
      "Epoch 10/999\n",
      "235/235 [==============================] - 1s 5ms/step - loss: 0.4707 - accuracy: 0.8452 - val_loss: 0.4855 - val_accuracy: 0.8415\n",
      "Epoch 11/999\n",
      "235/235 [==============================] - 1s 5ms/step - loss: 0.4601 - accuracy: 0.8470 - val_loss: 0.4822 - val_accuracy: 0.8426\n",
      "Epoch 12/999\n",
      "235/235 [==============================] - 1s 6ms/step - loss: 0.4528 - accuracy: 0.8501 - val_loss: 0.4684 - val_accuracy: 0.8461\n",
      "Epoch 13/999\n",
      "235/235 [==============================] - 1s 5ms/step - loss: 0.4489 - accuracy: 0.8518 - val_loss: 0.4633 - val_accuracy: 0.8498\n",
      "Epoch 14/999\n",
      "235/235 [==============================] - 1s 4ms/step - loss: 0.4390 - accuracy: 0.8549 - val_loss: 0.4605 - val_accuracy: 0.8520\n",
      "Epoch 15/999\n",
      "235/235 [==============================] - 1s 5ms/step - loss: 0.4254 - accuracy: 0.8573 - val_loss: 0.4531 - val_accuracy: 0.8517\n",
      "Epoch 16/999\n",
      "235/235 [==============================] - 1s 5ms/step - loss: 0.4245 - accuracy: 0.8608 - val_loss: 0.4466 - val_accuracy: 0.8543\n",
      "Epoch 17/999\n",
      "235/235 [==============================] - 1s 6ms/step - loss: 0.4152 - accuracy: 0.8630 - val_loss: 0.4445 - val_accuracy: 0.8530\n",
      "Epoch 18/999\n",
      "235/235 [==============================] - 1s 5ms/step - loss: 0.4139 - accuracy: 0.8639 - val_loss: 0.4397 - val_accuracy: 0.8574\n",
      "Epoch 19/999\n",
      "235/235 [==============================] - 1s 5ms/step - loss: 0.4013 - accuracy: 0.8701 - val_loss: 0.4374 - val_accuracy: 0.8575\n",
      "Epoch 20/999\n",
      "235/235 [==============================] - 1s 5ms/step - loss: 0.3931 - accuracy: 0.8709 - val_loss: 0.4335 - val_accuracy: 0.8585\n",
      "Epoch 21/999\n",
      "235/235 [==============================] - 1s 6ms/step - loss: 0.3815 - accuracy: 0.8736 - val_loss: 0.4348 - val_accuracy: 0.8582\n",
      "Epoch 22/999\n",
      "235/235 [==============================] - 1s 5ms/step - loss: 0.3871 - accuracy: 0.8732 - val_loss: 0.4273 - val_accuracy: 0.8604\n",
      "Epoch 23/999\n",
      "235/235 [==============================] - 1s 5ms/step - loss: 0.3735 - accuracy: 0.8787 - val_loss: 0.4255 - val_accuracy: 0.8595\n",
      "Epoch 24/999\n",
      "235/235 [==============================] - 1s 5ms/step - loss: 0.3712 - accuracy: 0.8782 - val_loss: 0.4190 - val_accuracy: 0.8625\n",
      "Epoch 25/999\n",
      "235/235 [==============================] - 1s 5ms/step - loss: 0.3722 - accuracy: 0.8765 - val_loss: 0.4260 - val_accuracy: 0.8610\n",
      "Epoch 26/999\n",
      "235/235 [==============================] - 1s 5ms/step - loss: 0.3670 - accuracy: 0.8795 - val_loss: 0.4153 - val_accuracy: 0.8645\n",
      "Epoch 27/999\n",
      "235/235 [==============================] - 1s 5ms/step - loss: 0.3650 - accuracy: 0.8799 - val_loss: 0.4161 - val_accuracy: 0.8637\n",
      "Epoch 28/999\n",
      "235/235 [==============================] - 1s 5ms/step - loss: 0.3605 - accuracy: 0.8814 - val_loss: 0.4150 - val_accuracy: 0.8630\n",
      "Epoch 29/999\n",
      "235/235 [==============================] - 1s 5ms/step - loss: 0.3579 - accuracy: 0.8823 - val_loss: 0.4113 - val_accuracy: 0.8650\n",
      "Epoch 30/999\n",
      "235/235 [==============================] - 1s 5ms/step - loss: 0.3511 - accuracy: 0.8841 - val_loss: 0.4087 - val_accuracy: 0.8676\n",
      "Epoch 31/999\n",
      "235/235 [==============================] - 1s 5ms/step - loss: 0.3523 - accuracy: 0.8842 - val_loss: 0.4071 - val_accuracy: 0.8674\n",
      "Epoch 32/999\n",
      "235/235 [==============================] - 1s 5ms/step - loss: 0.3475 - accuracy: 0.8856 - val_loss: 0.4070 - val_accuracy: 0.8669\n",
      "Epoch 33/999\n",
      "235/235 [==============================] - 1s 5ms/step - loss: 0.3451 - accuracy: 0.8866 - val_loss: 0.4087 - val_accuracy: 0.8663\n",
      "Epoch 34/999\n",
      "235/235 [==============================] - 1s 6ms/step - loss: 0.3383 - accuracy: 0.8882 - val_loss: 0.4026 - val_accuracy: 0.8684\n",
      "Epoch 35/999\n",
      "235/235 [==============================] - 1s 5ms/step - loss: 0.3372 - accuracy: 0.8894 - val_loss: 0.3984 - val_accuracy: 0.8722\n",
      "Epoch 36/999\n",
      "235/235 [==============================] - 1s 6ms/step - loss: 0.3300 - accuracy: 0.8913 - val_loss: 0.4030 - val_accuracy: 0.8684\n",
      "Epoch 37/999\n",
      "235/235 [==============================] - 1s 6ms/step - loss: 0.3334 - accuracy: 0.8896 - val_loss: 0.4055 - val_accuracy: 0.8677\n",
      "Epoch 38/999\n",
      "235/235 [==============================] - 1s 6ms/step - loss: 0.3294 - accuracy: 0.8920 - val_loss: 0.3997 - val_accuracy: 0.8704\n",
      "Epoch 39/999\n",
      "235/235 [==============================] - 1s 5ms/step - loss: 0.3232 - accuracy: 0.8935 - val_loss: 0.4039 - val_accuracy: 0.8661\n",
      "Epoch 40/999\n",
      "235/235 [==============================] - 1s 5ms/step - loss: 0.3243 - accuracy: 0.8925 - val_loss: 0.4049 - val_accuracy: 0.8667\n",
      "Epoch 00040: early stopping\n"
     ]
    },
    {
     "data": {
      "text/plain": [
       "<tensorflow.python.keras.callbacks.History at 0x257fb2a1ac0>"
      ]
     },
     "execution_count": 79,
     "metadata": {},
     "output_type": "execute_result"
    }
   ],
   "source": [
    "from tensorflow.keras.initializers import glorot_uniform\n",
    "import tensorflow.keras.backend as K\n",
    "rand_model = ContrastiveModel()\n",
    "rand_model(x_probe['train'][0])\n",
    "initial_weights = rand_model.get_weights()\n",
    "new_weights = [glorot_uniform()(w.shape) for w in initial_weights]\n",
    "rand_model.set_weights(new_weights)\n",
    "rand_probe = ContrastiveProbe(model)\n",
    "callbacks = [\n",
    "    tf.keras.callbacks.EarlyStopping(verbose=1, patience=5),\n",
    "    tf.keras.callbacks.ModelCheckpoint('contrastive_probe_randomly_initialized.h5', save_best_only=True)\n",
    "]\n",
    "rand_probe.compile(optimizer='adam', loss='sparse_categorical_crossentropy', metrics=['accuracy'])\n",
    "rand_probe.fit(x_probe['train'], y['train'], validation_data=(x_probe['test'], y['test']), batch_size=batch_size, epochs=999, callbacks=callbacks)"
   ]
  },
  {
   "cell_type": "code",
   "execution_count": 80,
   "metadata": {},
   "outputs": [
    {
     "name": "stdout",
     "output_type": "stream",
     "text": [
      "313/313 [==============================] - 1s 3ms/step - loss: 0.3984 - accuracy: 0.8722\n",
      "Accuracy: 0.872\n"
     ]
    }
   ],
   "source": [
    "rand_probe.load_weights('contrastive_probe_randomly_initialized.h5')\n",
    "loss, acc = rand_probe.evaluate(x_probe['test'], y['test'])\n",
    "print(f'Accuracy: {acc:.3f}')"
   ]
  },
  {
   "cell_type": "markdown",
   "metadata": {},
   "source": [
    "### Also try unfrozen"
   ]
  },
  {
   "cell_type": "code",
   "execution_count": 81,
   "metadata": {},
   "outputs": [
    {
     "name": "stdout",
     "output_type": "stream",
     "text": [
      "Epoch 1/999\n",
      "WARNING:tensorflow:Gradients do not exist for variables ['contrastive_model_10/dense_38/kernel:0', 'contrastive_model_10/dense_38/bias:0'] when minimizing the loss.\n",
      "WARNING:tensorflow:Gradients do not exist for variables ['contrastive_model_10/dense_38/kernel:0', 'contrastive_model_10/dense_38/bias:0'] when minimizing the loss.\n",
      "235/235 [==============================] - 2s 6ms/step - loss: 0.7873 - accuracy: 0.7413 - val_loss: 0.1483 - val_accuracy: 0.9521\n",
      "Epoch 2/999\n",
      "235/235 [==============================] - 1s 6ms/step - loss: 0.1419 - accuracy: 0.9558 - val_loss: 0.1205 - val_accuracy: 0.9623\n",
      "Epoch 3/999\n",
      "235/235 [==============================] - 1s 5ms/step - loss: 0.0924 - accuracy: 0.9719 - val_loss: 0.1016 - val_accuracy: 0.9683\n",
      "Epoch 4/999\n",
      "235/235 [==============================] - 1s 6ms/step - loss: 0.0704 - accuracy: 0.9779 - val_loss: 0.1010 - val_accuracy: 0.9697\n",
      "Epoch 5/999\n",
      "235/235 [==============================] - 1s 6ms/step - loss: 0.0544 - accuracy: 0.9827 - val_loss: 0.0937 - val_accuracy: 0.9708\n",
      "Epoch 6/999\n",
      "235/235 [==============================] - 1s 6ms/step - loss: 0.0452 - accuracy: 0.9857 - val_loss: 0.0828 - val_accuracy: 0.9746\n",
      "Epoch 7/999\n",
      "235/235 [==============================] - 1s 6ms/step - loss: 0.0359 - accuracy: 0.9888 - val_loss: 0.0877 - val_accuracy: 0.9734\n",
      "Epoch 8/999\n",
      "235/235 [==============================] - 1s 5ms/step - loss: 0.0267 - accuracy: 0.9916 - val_loss: 0.0820 - val_accuracy: 0.9759\n",
      "Epoch 9/999\n",
      "235/235 [==============================] - 1s 6ms/step - loss: 0.0228 - accuracy: 0.9930 - val_loss: 0.0883 - val_accuracy: 0.9746\n",
      "Epoch 10/999\n",
      "235/235 [==============================] - 1s 6ms/step - loss: 0.0204 - accuracy: 0.9936 - val_loss: 0.0909 - val_accuracy: 0.9752\n",
      "Epoch 11/999\n",
      "235/235 [==============================] - 1s 6ms/step - loss: 0.0171 - accuracy: 0.9948 - val_loss: 0.0891 - val_accuracy: 0.9760\n",
      "Epoch 12/999\n",
      "235/235 [==============================] - 1s 6ms/step - loss: 0.0190 - accuracy: 0.9939 - val_loss: 0.0910 - val_accuracy: 0.9765\n",
      "Epoch 13/999\n",
      "235/235 [==============================] - 1s 5ms/step - loss: 0.0130 - accuracy: 0.9958 - val_loss: 0.0954 - val_accuracy: 0.9758\n",
      "Epoch 00013: early stopping\n"
     ]
    },
    {
     "data": {
      "text/plain": [
       "<tensorflow.python.keras.callbacks.History at 0x257fcdce160>"
      ]
     },
     "execution_count": 81,
     "metadata": {},
     "output_type": "execute_result"
    }
   ],
   "source": [
    "unfrozen_model = ContrastiveModel()\n",
    "unfrozen_probe = ContrastiveProbe(model)\n",
    "unfrozen_probe.model.trainable = True\n",
    "callbacks = [\n",
    "    tf.keras.callbacks.EarlyStopping(verbose=1, patience=5),\n",
    "    tf.keras.callbacks.ModelCheckpoint('contrastive_probe_unfrozen.h5', save_best_only=True)\n",
    "]\n",
    "unfrozen_probe.compile(optimizer='adam', loss='sparse_categorical_crossentropy', metrics=['accuracy'])\n",
    "unfrozen_probe.fit(x_probe['train'], y['train'], validation_data=(x_probe['test'], y['test']), batch_size=batch_size, epochs=999, callbacks=callbacks)"
   ]
  },
  {
   "cell_type": "code",
   "execution_count": 29,
   "metadata": {},
   "outputs": [
    {
     "name": "stdout",
     "output_type": "stream",
     "text": [
      "313/313 [==============================] - 1s 4ms/step - loss: 0.0202 - accuracy: 0.9932\n",
      "Accuracy: 0.993\n"
     ]
    }
   ],
   "source": [
    "unfrozen_probe.load_weights('contrastive_probe_unfrozen.h5')\n",
    "loss, acc = unfrozen_probe.evaluate(x_probe['test'], y['test'])\n",
    "print(f'Accuracy: {acc:.3f}')"
   ]
  },
  {
   "cell_type": "code",
   "execution_count": null,
   "metadata": {},
   "outputs": [],
   "source": []
  }
 ],
 "metadata": {
  "kernelspec": {
   "display_name": "Python 3",
   "language": "python",
   "name": "python3"
  },
  "language_info": {
   "codemirror_mode": {
    "name": "ipython",
    "version": 3
   },
   "file_extension": ".py",
   "mimetype": "text/x-python",
   "name": "python",
   "nbconvert_exporter": "python",
   "pygments_lexer": "ipython3",
   "version": "3.8.3"
  }
 },
 "nbformat": 4,
 "nbformat_minor": 4
}
