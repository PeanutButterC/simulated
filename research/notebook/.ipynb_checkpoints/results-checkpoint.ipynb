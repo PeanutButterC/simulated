{
 "cells": [
  {
   "cell_type": "code",
   "execution_count": 1,
   "metadata": {},
   "outputs": [
    {
     "name": "stderr",
     "output_type": "stream",
     "text": [
      "C:\\Users\\dylan\\AppData\\Roaming\\Python\\Python38\\site-packages\\numpy\\_distributor_init.py:30: UserWarning: loaded more than 1 DLL from .libs:\n",
      "C:\\Users\\dylan\\AppData\\Roaming\\Python\\Python38\\site-packages\\numpy\\.libs\\libopenblas.EL2C6PLE4ZYW3ECEVIV3OXXGRN2NRFM2.gfortran-win_amd64.dll\n",
      "C:\\Users\\dylan\\AppData\\Roaming\\Python\\Python38\\site-packages\\numpy\\.libs\\libopenblas.XWYDX2IKJW2NMTWSFYNGFUWKQU3LYTCZ.gfortran-win_amd64.dll\n",
      "  warnings.warn(\"loaded more than 1 DLL from .libs:\"\n"
     ]
    }
   ],
   "source": [
    "import numpy as np\n",
    "import tensorflow as tf\n",
    "import pandas as pd\n",
    "import os\n",
    "import sys\n",
    "sys.path.append('../scripts')\n",
    "from paths import SIMULATED_PATH\n",
    "from models import NaiveModel\n",
    "from simulated_data import NaiveDataGenerator, NaiveCrowdsourcingDataGenerator, ACTIONS\n",
    "from experiments import PretrainedProbe\n",
    "from omegaconf import OmegaConf\n",
    "from sklearn.metrics import average_precision_score, f1_score\n",
    "import matplotlib.pyplot as plt\n",
    "import seaborn as sns\n",
    "from sklearn.dummy import DummyClassifier\n",
    "import itertools\n",
    "from textwrap import wrap"
   ]
  },
  {
   "cell_type": "code",
   "execution_count": 2,
   "metadata": {},
   "outputs": [
    {
     "data": {
      "text/plain": [
       "{'model': {'name': 'naive', 'hidden_width': 128, 'discount_factor': 0.85, 'input_width': 90, 'output_width': 60, 'sampling_rate': 1, 'stride': 30, 'batch_size': 16}, 'patience': 5}"
      ]
     },
     "execution_count": 2,
     "metadata": {},
     "output_type": "execute_result"
    }
   ],
   "source": [
    "cfg = OmegaConf.load(f'{SIMULATED_PATH}/outputs/naive_batch-size-1024/.hydra/config.yaml')\n",
    "cfg.model.batch_size = 16\n",
    "cfg"
   ]
  },
  {
   "cell_type": "code",
   "execution_count": 3,
   "metadata": {},
   "outputs": [],
   "source": [
    "gen = NaiveCrowdsourcingDataGenerator(cfg)"
   ]
  },
  {
   "cell_type": "code",
   "execution_count": 4,
   "metadata": {},
   "outputs": [],
   "source": [
    "x = []\n",
    "y = []\n",
    "for batch_x, batch_y in gen.train:\n",
    "    x.append(batch_x.numpy())\n",
    "    y.append(batch_y.numpy())\n",
    "x = np.concatenate(x)\n",
    "y = np.concatenate(y)\n",
    "y_split = np.split(y, indices_or_sections=y.shape[1], axis=1)\n",
    "dummy_classifiers = [DummyClassifier(strategy='stratified') for _ in range(len(y_split))]\n",
    "for i in range(len(y_split)):\n",
    "    y = y_split[i][:,0]\n",
    "    x_i = x[y >= 0]\n",
    "    y = y[y >= 0]\n",
    "    dummy_classifiers[i].fit(x_i, y)\n",
    "\n",
    "class DummyModel:\n",
    "    def __init__(self, dummy_classifiers):\n",
    "        self.dummy_classifiers = dummy_classifiers\n",
    "    \n",
    "    def __call__(self, x):\n",
    "        y = []\n",
    "        for i, classifier in enumerate(self.dummy_classifiers):\n",
    "            y.append(classifier.predict(x[:,i]))\n",
    "        return tf.convert_to_tensor(np.stack(y, axis=1), dtype=tf.float32)\n",
    "    \n",
    "dummy_model = DummyModel(dummy_classifiers)"
   ]
  },
  {
   "cell_type": "code",
   "execution_count": 5,
   "metadata": {},
   "outputs": [],
   "source": [
    "direct_model = tf.keras.models.Sequential([\n",
    "    tf.keras.layers.Flatten(),\n",
    "    tf.keras.layers.Dense(len(ACTIONS), activation='sigmoid')\n",
    "])\n",
    "direct_model(next(iter(gen.train))[0])\n",
    "direct_model.load_weights(f'{SIMULATED_PATH}/outputs/direct.h5')"
   ]
  },
  {
   "cell_type": "code",
   "execution_count": 6,
   "metadata": {},
   "outputs": [],
   "source": [
    "supervised_model = tf.keras.models.Sequential([\n",
    "    tf.keras.layers.Dense(cfg.model.hidden_width, activation='relu'),\n",
    "    tf.keras.layers.LSTM(64),\n",
    "    tf.keras.layers.Dense(len(ACTIONS), activation='sigmoid')\n",
    "])\n",
    "supervised_model(next(iter(gen.train))[0])\n",
    "supervised_model.load_weights(f'{SIMULATED_PATH}/outputs/supervised.h5')"
   ]
  },
  {
   "cell_type": "code",
   "execution_count": 7,
   "metadata": {},
   "outputs": [],
   "source": [
    "model = NaiveModel(cfg)\n",
    "model_gen = NaiveDataGenerator(cfg)\n",
    "model(next(iter(model_gen.train))[0])\n",
    "model.load_weights(f'{SIMULATED_PATH}/outputs/naive_batch-size-1024/weights.h5')\n",
    "pretrained_probe = PretrainedProbe(cfg, model)\n",
    "pretrained_probe(next(iter(gen.train))[0])\n",
    "pretrained_probe.load_weights(f'{SIMULATED_PATH}/outputs/pretrained_probe.h5')"
   ]
  },
  {
   "cell_type": "code",
   "execution_count": 8,
   "metadata": {},
   "outputs": [],
   "source": [
    "model = NaiveModel(cfg)\n",
    "model_gen = NaiveDataGenerator(cfg)\n",
    "model(next(iter(model_gen.train))[0])\n",
    "model.load_weights(f'{SIMULATED_PATH}/outputs/naive_batch-size-1024/weights.h5')\n",
    "finetune_probe = PretrainedProbe(cfg, model)\n",
    "finetune_probe(next(iter(gen.train))[0])\n",
    "finetune_probe.load_weights(f'{SIMULATED_PATH}/outputs/pretrained_finetuning.h5')"
   ]
  },
  {
   "cell_type": "code",
   "execution_count": 9,
   "metadata": {},
   "outputs": [],
   "source": [
    "true_labels = {k: [] for k in ACTIONS}\n",
    "dummy_model_predictions = {k: [] for k in ACTIONS}\n",
    "direct_model_predictions = {k: [] for k in ACTIONS}\n",
    "supervised_predictions = {k: [] for k in ACTIONS}\n",
    "pretrained_model_predictions = {k: [] for k in ACTIONS}\n",
    "finetune_predictions = {k: [] for k in ACTIONS}\n",
    "for x_batch, y_batch in gen.test:\n",
    "    y_batch = y_batch.numpy()\n",
    "    dummy_pred = dummy_model(x_batch).numpy()\n",
    "    direct_pred = direct_model(x_batch).numpy()\n",
    "    supervised_pred = supervised_model(x_batch).numpy()\n",
    "    pretrained_probe_pred = pretrained_probe(x_batch).numpy()\n",
    "    finetune_pred = finetune_probe(x_batch).numpy()\n",
    "    for y, y_dummy, y_direct, y_linear, y_pretrained, y_finetuned in zip(y_batch, dummy_pred, direct_pred, supervised_pred, pretrained_probe_pred, finetune_pred):\n",
    "        for i, action in enumerate(ACTIONS):\n",
    "            if y[i] == -1:\n",
    "                continue\n",
    "            true_labels[action].append(y[i])\n",
    "            dummy_model_predictions[action].append(y_dummy[i])\n",
    "            direct_model_predictions[action].append(y_direct[i])\n",
    "            supervised_predictions[action].append(y_linear[i])\n",
    "            pretrained_model_predictions[action].append(y_pretrained[i])\n",
    "            finetune_predictions[action].append(y_finetuned[i])\n",
    "for labels in [true_labels, dummy_model_predictions, direct_model_predictions, supervised_predictions, pretrained_model_predictions, finetune_predictions]:\n",
    "    labels = {k: np.array(v) for k, v in labels.items()}"
   ]
  },
  {
   "cell_type": "code",
   "execution_count": 10,
   "metadata": {},
   "outputs": [
    {
     "data": {
      "text/html": [
       "<div>\n",
       "<style scoped>\n",
       "    .dataframe tbody tr th:only-of-type {\n",
       "        vertical-align: middle;\n",
       "    }\n",
       "\n",
       "    .dataframe tbody tr th {\n",
       "        vertical-align: top;\n",
       "    }\n",
       "\n",
       "    .dataframe thead th {\n",
       "        text-align: right;\n",
       "    }\n",
       "</style>\n",
       "<table border=\"1\" class=\"dataframe\">\n",
       "  <thead>\n",
       "    <tr style=\"text-align: right;\">\n",
       "      <th></th>\n",
       "      <th>action</th>\n",
       "      <th>model</th>\n",
       "      <th>average precision</th>\n",
       "    </tr>\n",
       "  </thead>\n",
       "  <tbody>\n",
       "    <tr>\n",
       "      <th>0</th>\n",
       "      <td>hit</td>\n",
       "      <td>random stratified</td>\n",
       "      <td>0.875545</td>\n",
       "    </tr>\n",
       "    <tr>\n",
       "      <th>1</th>\n",
       "      <td>hit</td>\n",
       "      <td>perceptron</td>\n",
       "      <td>0.845227</td>\n",
       "    </tr>\n",
       "    <tr>\n",
       "      <th>2</th>\n",
       "      <td>hit</td>\n",
       "      <td>fully supervised</td>\n",
       "      <td>0.960123</td>\n",
       "    </tr>\n",
       "    <tr>\n",
       "      <th>3</th>\n",
       "      <td>hit</td>\n",
       "      <td>pretrained + probe</td>\n",
       "      <td>0.932741</td>\n",
       "    </tr>\n",
       "    <tr>\n",
       "      <th>4</th>\n",
       "      <td>hit</td>\n",
       "      <td>pretrained + finetuning</td>\n",
       "      <td>0.950017</td>\n",
       "    </tr>\n",
       "    <tr>\n",
       "      <th>...</th>\n",
       "      <td>...</td>\n",
       "      <td>...</td>\n",
       "      <td>...</td>\n",
       "    </tr>\n",
       "    <tr>\n",
       "      <th>115</th>\n",
       "      <td>tumble</td>\n",
       "      <td>random stratified</td>\n",
       "      <td>0.368573</td>\n",
       "    </tr>\n",
       "    <tr>\n",
       "      <th>116</th>\n",
       "      <td>tumble</td>\n",
       "      <td>perceptron</td>\n",
       "      <td>0.614071</td>\n",
       "    </tr>\n",
       "    <tr>\n",
       "      <th>117</th>\n",
       "      <td>tumble</td>\n",
       "      <td>fully supervised</td>\n",
       "      <td>0.676737</td>\n",
       "    </tr>\n",
       "    <tr>\n",
       "      <th>118</th>\n",
       "      <td>tumble</td>\n",
       "      <td>pretrained + probe</td>\n",
       "      <td>0.632262</td>\n",
       "    </tr>\n",
       "    <tr>\n",
       "      <th>119</th>\n",
       "      <td>tumble</td>\n",
       "      <td>pretrained + finetuning</td>\n",
       "      <td>0.668473</td>\n",
       "    </tr>\n",
       "  </tbody>\n",
       "</table>\n",
       "<p>120 rows × 3 columns</p>\n",
       "</div>"
      ],
      "text/plain": [
       "     action                    model  average precision\n",
       "0       hit        random stratified           0.875545\n",
       "1       hit               perceptron           0.845227\n",
       "2       hit         fully supervised           0.960123\n",
       "3       hit       pretrained + probe           0.932741\n",
       "4       hit  pretrained + finetuning           0.950017\n",
       "..      ...                      ...                ...\n",
       "115  tumble        random stratified           0.368573\n",
       "116  tumble               perceptron           0.614071\n",
       "117  tumble         fully supervised           0.676737\n",
       "118  tumble       pretrained + probe           0.632262\n",
       "119  tumble  pretrained + finetuning           0.668473\n",
       "\n",
       "[120 rows x 3 columns]"
      ]
     },
     "execution_count": 10,
     "metadata": {},
     "output_type": "execute_result"
    }
   ],
   "source": [
    "df = []\n",
    "for action in ACTIONS:\n",
    "    for model, predictions in zip(['random stratified', 'perceptron', 'fully supervised', 'pretrained + probe', 'pretrained + finetuning'], \n",
    "                                  [dummy_model_predictions, direct_model_predictions, supervised_predictions, pretrained_model_predictions, finetune_predictions]):\n",
    "        df.append({\n",
    "            'action': action,\n",
    "            'model': model,\n",
    "            'average precision': average_precision_score(true_labels[action], predictions[action])\n",
    "        })\n",
    "df = pd.DataFrame(df)\n",
    "df"
   ]
  },
  {
   "cell_type": "code",
   "execution_count": 12,
   "metadata": {},
   "outputs": [
    {
     "data": {
      "text/html": [
       "<div>\n",
       "<style scoped>\n",
       "    .dataframe tbody tr th:only-of-type {\n",
       "        vertical-align: middle;\n",
       "    }\n",
       "\n",
       "    .dataframe tbody tr th {\n",
       "        vertical-align: top;\n",
       "    }\n",
       "\n",
       "    .dataframe thead th {\n",
       "        text-align: right;\n",
       "    }\n",
       "</style>\n",
       "<table border=\"1\" class=\"dataframe\">\n",
       "  <thead>\n",
       "    <tr style=\"text-align: right;\">\n",
       "      <th></th>\n",
       "      <th>action</th>\n",
       "      <th>model</th>\n",
       "      <th>average precision</th>\n",
       "    </tr>\n",
       "  </thead>\n",
       "  <tbody>\n",
       "    <tr>\n",
       "      <th>35</th>\n",
       "      <td>fall</td>\n",
       "      <td>random stratified</td>\n",
       "      <td>0.257319</td>\n",
       "    </tr>\n",
       "    <tr>\n",
       "      <th>36</th>\n",
       "      <td>fall</td>\n",
       "      <td>perceptron</td>\n",
       "      <td>0.905069</td>\n",
       "    </tr>\n",
       "    <tr>\n",
       "      <th>37</th>\n",
       "      <td>fall</td>\n",
       "      <td>fully supervised</td>\n",
       "      <td>0.944509</td>\n",
       "    </tr>\n",
       "    <tr>\n",
       "      <th>38</th>\n",
       "      <td>fall</td>\n",
       "      <td>pretrained + probe</td>\n",
       "      <td>0.928747</td>\n",
       "    </tr>\n",
       "    <tr>\n",
       "      <th>39</th>\n",
       "      <td>fall</td>\n",
       "      <td>pretrained + finetuning</td>\n",
       "      <td>0.928873</td>\n",
       "    </tr>\n",
       "    <tr>\n",
       "      <th>...</th>\n",
       "      <td>...</td>\n",
       "      <td>...</td>\n",
       "      <td>...</td>\n",
       "    </tr>\n",
       "    <tr>\n",
       "      <th>16</th>\n",
       "      <td>turn</td>\n",
       "      <td>perceptron</td>\n",
       "      <td>0.685895</td>\n",
       "    </tr>\n",
       "    <tr>\n",
       "      <th>17</th>\n",
       "      <td>turn</td>\n",
       "      <td>fully supervised</td>\n",
       "      <td>0.664965</td>\n",
       "    </tr>\n",
       "    <tr>\n",
       "      <th>18</th>\n",
       "      <td>turn</td>\n",
       "      <td>pretrained + probe</td>\n",
       "      <td>0.820716</td>\n",
       "    </tr>\n",
       "    <tr>\n",
       "      <th>19</th>\n",
       "      <td>turn</td>\n",
       "      <td>pretrained + finetuning</td>\n",
       "      <td>0.823510</td>\n",
       "    </tr>\n",
       "    <tr>\n",
       "      <th>23</th>\n",
       "      <td>turn</td>\n",
       "      <td>annotation agreement</td>\n",
       "      <td>0.673556</td>\n",
       "    </tr>\n",
       "  </tbody>\n",
       "</table>\n",
       "<p>144 rows × 3 columns</p>\n",
       "</div>"
      ],
      "text/plain": [
       "   action                    model  average precision\n",
       "35   fall        random stratified           0.257319\n",
       "36   fall               perceptron           0.905069\n",
       "37   fall         fully supervised           0.944509\n",
       "38   fall       pretrained + probe           0.928747\n",
       "39   fall  pretrained + finetuning           0.928873\n",
       "..    ...                      ...                ...\n",
       "16   turn               perceptron           0.685895\n",
       "17   turn         fully supervised           0.664965\n",
       "18   turn       pretrained + probe           0.820716\n",
       "19   turn  pretrained + finetuning           0.823510\n",
       "23   turn     annotation agreement           0.673556\n",
       "\n",
       "[144 rows x 3 columns]"
      ]
     },
     "execution_count": 12,
     "metadata": {},
     "output_type": "execute_result"
    }
   ],
   "source": [
    "responses = pd.read_csv(f'{SIMULATED_PATH}/crowdsourcing/production_1/responses.csv', index_col='index')\n",
    "agreement = responses.groupby('action')['agreement'].mean().sort_values(ascending=False).reset_index()\n",
    "agreement['model'] = 'annotation agreement'\n",
    "action_idx = {x: i for i, x in enumerate(agreement['action'].values)}\n",
    "agreement = agreement.rename(columns={'agreement': 'average precision'})\n",
    "merged = pd.concat([df, agreement])\n",
    "model_indices = {x: i for i, x in enumerate(['random stratified', 'perceptron', 'fully supervised', 'pretrained + probe', 'pretrained + finetuning', 'annotation agreement'])}\n",
    "merged['model_idx'] = merged.apply(lambda row: model_indices[row['model']], axis=1)\n",
    "merged['action_idx'] = merged.apply(lambda row: action_idx[row['action']], axis=1)\n",
    "merged = merged.sort_values(by=['action_idx', 'model_idx']).drop(['action_idx', 'model_idx'], axis=1)\n",
    "merged"
   ]
  },
  {
   "cell_type": "code",
   "execution_count": 12,
   "metadata": {},
   "outputs": [
    {
     "data": {
      "image/png": "[encoded data removed]",
      "text/plain": [
       "<Figure size 1152x432 with 1 Axes>"
      ]
     },
     "metadata": {
      "needs_background": "light"
     },
     "output_type": "display_data"
    }
   ],
   "source": [
    "agreement = agreement.rename(columns={'average precision': 'agreement', 'action': 'verb'})\n",
    "\n",
    "plt.rcParams['font.size'] = '16'\n",
    "plt.figure(figsize=(16, 6))\n",
    "plt.xticks(rotation=45, ha='right')\n",
    "ax = sns.barplot(data=agreement, x='verb', y='agreement', color='#eb2f06')\n",
    "ax.set_ylim([.65, .9])\n",
    "\n",
    "plt.tight_layout()\n",
    "plt.savefig(f'{SIMULATED_PATH}/docs/agreement.png', dpi=300)"
   ]
  },
  {
   "cell_type": "code",
   "execution_count": 13,
   "metadata": {},
   "outputs": [
    {
     "data": {
      "image/png": "[encoded data removed]",
      "text/plain": [
       "<Figure size 1152x576 with 3 Axes>"
      ]
     },
     "metadata": {},
     "output_type": "display_data"
    }
   ],
   "source": [
    "actions = merged['action'].unique()\n",
    "\n",
    "plt.rcParams['font.size'] = '16'\n",
    "fig = plt.figure(figsize=(16, 8))\n",
    "ax = fig.add_subplot(111)\n",
    "ax1 = fig.add_subplot(211)\n",
    "ax2 = fig.add_subplot(212)\n",
    "palette = sns.color_palette(n_colors=6)\n",
    "palette[0] = '#eeeeee'\n",
    "palette[1] = '#bbbbbb'\n",
    "palette[2] = '#888888'\n",
    "palette[3] = '#38ada9' \n",
    "palette[4] = '#3c6382'\n",
    "palette[5] = '#eb2f06'\n",
    "\n",
    "data_1 = merged[merged['action'].isin(actions[:len(actions) // 2])]\n",
    "g = sns.barplot(data=data_1, x='action', y='average precision', hue='model', palette=palette, ax=ax1)\n",
    "ax1.set_ylim([0, 1])\n",
    "ax1.set_xlabel('')\n",
    "ax1.set_ylabel('')\n",
    "leg = ax1.legend(bbox_to_anchor=(1.01, 1), loc=2, borderaxespad=0., prop={'size': 12})\n",
    "\n",
    "data_2 = merged[merged['action'].isin(actions[len(actions) // 2:])]\n",
    "g = sns.barplot(data=data_2, x='action', y='average precision', hue='model', palette=palette, ax=ax2)\n",
    "ax2.set_ylim([0, 1])\n",
    "ax2.set_ylabel('')\n",
    "ax2.set_xlabel('')\n",
    "ax2.get_legend().remove()\n",
    "\n",
    "ax.spines['top'].set_color('none')\n",
    "ax.spines['bottom'].set_color('none')\n",
    "ax.spines['left'].set_color('none')\n",
    "ax.spines['right'].set_color('none')\n",
    "ax.tick_params(labelcolor='w', top=False, bottom=False, left=False, right=False)\n",
    "ax.set_ylabel('average precision / annotation agreement')\n",
    "ax.set_xlabel('verb')\n",
    "\n",
    "plt.tight_layout()\n",
    "plt.savefig(f'{SIMULATED_PATH}/docs/results.png', dpi=300)"
   ]
  },
  {
   "cell_type": "code",
   "execution_count": 13,
   "metadata": {},
   "outputs": [
    {
     "data": {
      "text/html": [
       "<div>\n",
       "<style scoped>\n",
       "    .dataframe tbody tr th:only-of-type {\n",
       "        vertical-align: middle;\n",
       "    }\n",
       "\n",
       "    .dataframe tbody tr th {\n",
       "        vertical-align: top;\n",
       "    }\n",
       "\n",
       "    .dataframe thead th {\n",
       "        text-align: right;\n",
       "    }\n",
       "</style>\n",
       "<table border=\"1\" class=\"dataframe\">\n",
       "  <thead>\n",
       "    <tr style=\"text-align: right;\">\n",
       "      <th></th>\n",
       "      <th>average precision</th>\n",
       "    </tr>\n",
       "    <tr>\n",
       "      <th>model</th>\n",
       "      <th></th>\n",
       "    </tr>\n",
       "  </thead>\n",
       "  <tbody>\n",
       "    <tr>\n",
       "      <th>random stratified</th>\n",
       "      <td>0.411876</td>\n",
       "    </tr>\n",
       "    <tr>\n",
       "      <th>perceptron</th>\n",
       "      <td>0.652867</td>\n",
       "    </tr>\n",
       "    <tr>\n",
       "      <th>fully supervised</th>\n",
       "      <td>0.721822</td>\n",
       "    </tr>\n",
       "    <tr>\n",
       "      <th>pretrained + probe</th>\n",
       "      <td>0.762797</td>\n",
       "    </tr>\n",
       "    <tr>\n",
       "      <th>pretrained + finetuning</th>\n",
       "      <td>0.773878</td>\n",
       "    </tr>\n",
       "  </tbody>\n",
       "</table>\n",
       "</div>"
      ],
      "text/plain": [
       "                         average precision\n",
       "model                                     \n",
       "random stratified                 0.411876\n",
       "perceptron                        0.652867\n",
       "fully supervised                  0.721822\n",
       "pretrained + probe                0.762797\n",
       "pretrained + finetuning           0.773878"
      ]
     },
     "execution_count": 13,
     "metadata": {},
     "output_type": "execute_result"
    }
   ],
   "source": [
    "df.groupby('model').mean().sort_values(by='average precision')"
   ]
  },
  {
   "cell_type": "code",
   "execution_count": 14,
   "metadata": {},
   "outputs": [
    {
     "name": "stdout",
     "output_type": "stream",
     "text": [
      "0.48466790635886786\n"
     ]
    }
   ],
   "source": [
    "responses = pd.read_csv(f'{SIMULATED_PATH}/crowdsourcing/production_1/responses.csv', index_col='index')\n",
    "actions = responses['action'].unique().tolist()\n",
    "heatmap = []\n",
    "for action, group in responses[responses['mode'] == 'yes'].groupby('action'):\n",
    "    for other in actions:\n",
    "        overlap = responses[(responses['action'] == other) & (responses['url'].isin(group['url'].tolist()))]\n",
    "        match = len(overlap[overlap['mode'] == 'yes']) / len(overlap)\n",
    "        heatmap.append({\n",
    "            'clips labeled': action,\n",
    "            'proportion also labeled': other,\n",
    "            'match': match\n",
    "        })\n",
    "heatmap = pd.DataFrame(heatmap)\n",
    "heatmap = heatmap.pivot('clips labeled', 'proportion also labeled', 'match')\n",
    "print(heatmap.mean().mean())"
   ]
  },
  {
   "cell_type": "code",
   "execution_count": 16,
   "metadata": {},
   "outputs": [
    {
     "data": {
      "text/html": [
       "<div>\n",
       "<style scoped>\n",
       "    .dataframe tbody tr th:only-of-type {\n",
       "        vertical-align: middle;\n",
       "    }\n",
       "\n",
       "    .dataframe tbody tr th {\n",
       "        vertical-align: top;\n",
       "    }\n",
       "\n",
       "    .dataframe thead th {\n",
       "        text-align: right;\n",
       "    }\n",
       "</style>\n",
       "<table border=\"1\" class=\"dataframe\">\n",
       "  <thead>\n",
       "    <tr style=\"text-align: right;\">\n",
       "      <th></th>\n",
       "      <th>a</th>\n",
       "      <th>b</th>\n",
       "      <th>ab</th>\n",
       "      <th>ba</th>\n",
       "      <th>mean</th>\n",
       "      <th>difference</th>\n",
       "    </tr>\n",
       "  </thead>\n",
       "  <tbody>\n",
       "    <tr>\n",
       "      <th>0</th>\n",
       "      <td>toss</td>\n",
       "      <td>throw</td>\n",
       "      <td>0.667897</td>\n",
       "      <td>0.747934</td>\n",
       "      <td>0.707915</td>\n",
       "      <td>0.080037</td>\n",
       "    </tr>\n",
       "  </tbody>\n",
       "</table>\n",
       "</div>"
      ],
      "text/plain": [
       "      a      b        ab        ba      mean  difference\n",
       "0  toss  throw  0.667897  0.747934  0.707915    0.080037"
      ]
     },
     "execution_count": 16,
     "metadata": {},
     "output_type": "execute_result"
    }
   ],
   "source": [
    "'''categories = [\n",
    "    ['roll', 'slide'],\n",
    "    ['throw', 'toss'],\n",
    "    ['fall', 'drop', 'bounce', 'fall off'],\n",
    "    ['spin', 'tip', 'topple', 'tumble', 'turn', 'roll', 'fall over'],\n",
    "    ['pick up', 'put down'],\n",
    "    ['hit', 'push', 'slap', 'bump']\n",
    "]'''\n",
    "categories = [\n",
    "    ['toss', 'throw']\n",
    "]\n",
    "rows = []\n",
    "for category in categories:\n",
    "    for pair in itertools.combinations(category, 2):\n",
    "        a, b = pair\n",
    "        ab = heatmap[b][a]\n",
    "        ba = heatmap[a][b]\n",
    "        rows.append({\n",
    "            'a': a,\n",
    "            'b': b,\n",
    "            'ab': ab,\n",
    "            'ba': ba,\n",
    "            'mean': (ab+ba) / 2,\n",
    "            'difference': np.abs(ab-ba)\n",
    "        })\n",
    "coocc = pd.DataFrame(rows).sort_values(by='mean')\n",
    "coocc"
   ]
  },
  {
   "cell_type": "code",
   "execution_count": null,
   "metadata": {},
   "outputs": [],
   "source": []
  }
 ],
 "metadata": {
  "kernelspec": {
   "display_name": "Python 3",
   "language": "python",
   "name": "python3"
  },
  "language_info": {
   "codemirror_mode": {
    "name": "ipython",
    "version": 3
   },
   "file_extension": ".py",
   "mimetype": "text/x-python",
   "name": "python",
   "nbconvert_exporter": "python",
   "pygments_lexer": "ipython3",
   "version": "3.8.3"
  }
 },
 "nbformat": 4,
 "nbformat_minor": 4
}
