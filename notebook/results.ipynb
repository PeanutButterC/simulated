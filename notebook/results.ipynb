{
 "cells": [
  {
   "cell_type": "code",
   "execution_count": 1,
   "metadata": {},
   "outputs": [],
   "source": [
    "import numpy as np\n",
    "import tensorflow as tf\n",
    "import pandas as pd\n",
    "import os\n",
    "import sys\n",
    "sys.path.append('../scripts')\n",
    "from paths import SIMULATED_PATH\n",
    "from models import NaiveModel\n",
    "from simulated_data import NaiveDataGenerator, NaiveCrowdsourcingDataGenerator, ACTIONS\n",
    "from experiments import PretrainedProbe\n",
    "from omegaconf import OmegaConf\n",
    "from sklearn.metrics import average_precision_score, f1_score\n",
    "import matplotlib.pyplot as plt\n",
    "import seaborn as sns"
   ]
  },
  {
   "cell_type": "code",
   "execution_count": 2,
   "metadata": {},
   "outputs": [
    {
     "data": {
      "text/plain": [
       "{'model': {'name': 'naive', 'hidden_width': 128, 'discount_factor': 0.85, 'input_width': 90, 'output_width': 60, 'sampling_rate': 1, 'stride': 30, 'batch_size': 16}, 'patience': 5}"
      ]
     },
     "execution_count": 2,
     "metadata": {},
     "output_type": "execute_result"
    }
   ],
   "source": [
    "cfg = OmegaConf.load(f'{SIMULATED_PATH}/outputs/naive_batch-size-1024/.hydra/config.yaml')\n",
    "cfg.model.batch_size = 16\n",
    "cfg"
   ]
  },
  {
   "cell_type": "code",
   "execution_count": 3,
   "metadata": {},
   "outputs": [],
   "source": [
    "gen = NaiveCrowdsourcingDataGenerator(cfg)"
   ]
  },
  {
   "cell_type": "code",
   "execution_count": 4,
   "metadata": {},
   "outputs": [],
   "source": [
    "direct_model = tf.keras.models.Sequential([\n",
    "    tf.keras.layers.Flatten(),\n",
    "    tf.keras.layers.Dense(len(ACTIONS), activation='sigmoid')\n",
    "])\n",
    "direct_model(next(iter(gen.train))[0])\n",
    "direct_model.load_weights(f'{SIMULATED_PATH}/outputs/direct.h5')"
   ]
  },
  {
   "cell_type": "code",
   "execution_count": 17,
   "metadata": {},
   "outputs": [],
   "source": [
    "supervised_model = tf.keras.models.Sequential([\n",
    "    tf.keras.layers.Dense(cfg.model.hidden_width, activation='relu'),\n",
    "    tf.keras.layers.LSTM(64),\n",
    "    tf.keras.layers.Dense(len(ACTIONS), activation='sigmoid')\n",
    "])\n",
    "supervised_model(next(iter(gen.train))[0])\n",
    "supervised_model.load_weights(f'{SIMULATED_PATH}/outputs/supervised.h5')"
   ]
  },
  {
   "cell_type": "code",
   "execution_count": 6,
   "metadata": {},
   "outputs": [],
   "source": [
    "model = NaiveModel(cfg)\n",
    "model_gen = NaiveDataGenerator(cfg)\n",
    "model(next(iter(model_gen.train))[0])\n",
    "model.load_weights(f'{SIMULATED_PATH}/outputs/naive_batch-size-1024/weights.h5')\n",
    "pretrained_probe = PretrainedProbe(cfg, model)\n",
    "pretrained_probe(next(iter(gen.train))[0])\n",
    "pretrained_probe.load_weights(f'{SIMULATED_PATH}/outputs/pretrained_probe.h5')"
   ]
  },
  {
   "cell_type": "code",
   "execution_count": 31,
   "metadata": {},
   "outputs": [],
   "source": [
    "model = NaiveModel(cfg)\n",
    "model_gen = NaiveDataGenerator(cfg)\n",
    "model(next(iter(model_gen.train))[0])\n",
    "model.load_weights(f'{SIMULATED_PATH}/outputs/naive_batch-size-1024/weights.h5')\n",
    "finetune_probe = PretrainedProbe(cfg, model)\n",
    "finetune_probe(next(iter(gen.train))[0])\n",
    "finetune_probe.load_weights(f'{SIMULATED_PATH}/outputs/pretrained_finetuning.h5')"
   ]
  },
  {
   "cell_type": "code",
   "execution_count": 34,
   "metadata": {},
   "outputs": [],
   "source": [
    "true_labels = {k: [] for k in ACTIONS}\n",
    "direct_model_predictions = {k: [] for k in ACTIONS}\n",
    "supervised_predictions = {k: [] for k in ACTIONS}\n",
    "pretrained_model_predictions = {k: [] for k in ACTIONS}\n",
    "finetune_predictions = {k: [] for k in ACTIONS}\n",
    "for x_batch, y_batch in gen.test:\n",
    "    y_batch = y_batch.numpy()\n",
    "    direct_pred = direct_model(x_batch).numpy()\n",
    "    supervised_pred = supervised_model(x_batch).numpy()\n",
    "    pretrained_probe_pred = pretrained_probe(x_batch).numpy()\n",
    "    finetune_pred = finetune_probe(x_batch).numpy()\n",
    "    for y, y_direct, y_linear, y_pretrained, y_finetuned in zip(y_batch, direct_pred, supervised_pred, pretrained_probe_pred, finetune_pred):\n",
    "        for i, action in enumerate(ACTIONS):\n",
    "            if y[i] == -1:\n",
    "                continue\n",
    "            true_labels[action].append(y[i])\n",
    "            direct_model_predictions[action].append(y_direct[i])\n",
    "            supervised_predictions[action].append(y_linear[i])\n",
    "            pretrained_model_predictions[action].append(y_pretrained[i])\n",
    "            finetune_predictions[action].append(y_finetuned[i])\n",
    "for labels in [true_labels, direct_model_predictions, supervised_predictions, pretrained_model_predictions, finetune_predictions]:\n",
    "    labels = {k: np.array(v) for k, v in labels.items()}"
   ]
  },
  {
   "cell_type": "code",
   "execution_count": 39,
   "metadata": {},
   "outputs": [
    {
     "data": {
      "text/html": [
       "<div>\n",
       "<style scoped>\n",
       "    .dataframe tbody tr th:only-of-type {\n",
       "        vertical-align: middle;\n",
       "    }\n",
       "\n",
       "    .dataframe tbody tr th {\n",
       "        vertical-align: top;\n",
       "    }\n",
       "\n",
       "    .dataframe thead th {\n",
       "        text-align: right;\n",
       "    }\n",
       "</style>\n",
       "<table border=\"1\" class=\"dataframe\">\n",
       "  <thead>\n",
       "    <tr style=\"text-align: right;\">\n",
       "      <th></th>\n",
       "      <th>action</th>\n",
       "      <th>model</th>\n",
       "      <th>average precision</th>\n",
       "      <th>f1_macro</th>\n",
       "      <th>f1_micro</th>\n",
       "    </tr>\n",
       "  </thead>\n",
       "  <tbody>\n",
       "    <tr>\n",
       "      <th>0</th>\n",
       "      <td>hit</td>\n",
       "      <td>direct prediction</td>\n",
       "      <td>0.845227</td>\n",
       "      <td>0.470588</td>\n",
       "      <td>0.888889</td>\n",
       "    </tr>\n",
       "    <tr>\n",
       "      <th>1</th>\n",
       "      <td>hit</td>\n",
       "      <td>supervised</td>\n",
       "      <td>0.960123</td>\n",
       "      <td>0.672727</td>\n",
       "      <td>0.900000</td>\n",
       "    </tr>\n",
       "    <tr>\n",
       "      <th>2</th>\n",
       "      <td>hit</td>\n",
       "      <td>pretrained probe</td>\n",
       "      <td>0.932741</td>\n",
       "      <td>0.690189</td>\n",
       "      <td>0.911111</td>\n",
       "    </tr>\n",
       "    <tr>\n",
       "      <th>3</th>\n",
       "      <td>hit</td>\n",
       "      <td>finetuned</td>\n",
       "      <td>0.950017</td>\n",
       "      <td>0.745455</td>\n",
       "      <td>0.922222</td>\n",
       "    </tr>\n",
       "    <tr>\n",
       "      <th>4</th>\n",
       "      <td>slap</td>\n",
       "      <td>direct prediction</td>\n",
       "      <td>0.553322</td>\n",
       "      <td>0.496081</td>\n",
       "      <td>0.611111</td>\n",
       "    </tr>\n",
       "    <tr>\n",
       "      <th>...</th>\n",
       "      <td>...</td>\n",
       "      <td>...</td>\n",
       "      <td>...</td>\n",
       "      <td>...</td>\n",
       "      <td>...</td>\n",
       "    </tr>\n",
       "    <tr>\n",
       "      <th>91</th>\n",
       "      <td>tip</td>\n",
       "      <td>finetuned</td>\n",
       "      <td>0.817793</td>\n",
       "      <td>0.826285</td>\n",
       "      <td>0.877778</td>\n",
       "    </tr>\n",
       "    <tr>\n",
       "      <th>92</th>\n",
       "      <td>tumble</td>\n",
       "      <td>direct prediction</td>\n",
       "      <td>0.614071</td>\n",
       "      <td>0.699198</td>\n",
       "      <td>0.777778</td>\n",
       "    </tr>\n",
       "    <tr>\n",
       "      <th>93</th>\n",
       "      <td>tumble</td>\n",
       "      <td>supervised</td>\n",
       "      <td>0.676737</td>\n",
       "      <td>0.678780</td>\n",
       "      <td>0.755556</td>\n",
       "    </tr>\n",
       "    <tr>\n",
       "      <th>94</th>\n",
       "      <td>tumble</td>\n",
       "      <td>pretrained probe</td>\n",
       "      <td>0.632262</td>\n",
       "      <td>0.688889</td>\n",
       "      <td>0.766667</td>\n",
       "    </tr>\n",
       "    <tr>\n",
       "      <th>95</th>\n",
       "      <td>tumble</td>\n",
       "      <td>finetuned</td>\n",
       "      <td>0.668473</td>\n",
       "      <td>0.688889</td>\n",
       "      <td>0.766667</td>\n",
       "    </tr>\n",
       "  </tbody>\n",
       "</table>\n",
       "<p>96 rows × 5 columns</p>\n",
       "</div>"
      ],
      "text/plain": [
       "    action              model  average precision  f1_macro  f1_micro\n",
       "0      hit  direct prediction           0.845227  0.470588  0.888889\n",
       "1      hit         supervised           0.960123  0.672727  0.900000\n",
       "2      hit   pretrained probe           0.932741  0.690189  0.911111\n",
       "3      hit          finetuned           0.950017  0.745455  0.922222\n",
       "4     slap  direct prediction           0.553322  0.496081  0.611111\n",
       "..     ...                ...                ...       ...       ...\n",
       "91     tip          finetuned           0.817793  0.826285  0.877778\n",
       "92  tumble  direct prediction           0.614071  0.699198  0.777778\n",
       "93  tumble         supervised           0.676737  0.678780  0.755556\n",
       "94  tumble   pretrained probe           0.632262  0.688889  0.766667\n",
       "95  tumble          finetuned           0.668473  0.688889  0.766667\n",
       "\n",
       "[96 rows x 5 columns]"
      ]
     },
     "execution_count": 39,
     "metadata": {},
     "output_type": "execute_result"
    }
   ],
   "source": [
    "df = []\n",
    "for action in ACTIONS:\n",
    "    for model, predictions in zip(['direct prediction', 'supervised', 'pretrained probe', 'finetuned'], \n",
    "                                  [direct_model_predictions, supervised_predictions, pretrained_model_predictions, finetune_predictions]):\n",
    "        df.append({\n",
    "            'action': action,\n",
    "            'model': model,\n",
    "            'average precision': average_precision_score(true_labels[action], predictions[action]),\n",
    "            'f1_macro': f1_score(true_labels[action], np.round(predictions[action]), average='macro'),\n",
    "            'f1_micro': f1_score(true_labels[action], np.round(predictions[action]), average='micro')\n",
    "        })\n",
    "df = pd.DataFrame(df)\n",
    "df"
   ]
  },
  {
   "cell_type": "code",
   "execution_count": 40,
   "metadata": {},
   "outputs": [
    {
     "data": {
      "image/png": "[encoded data removed]",
      "text/plain": [
       "<Figure size 1152x432 with 1 Axes>"
      ]
     },
     "metadata": {
      "needs_background": "light"
     },
     "output_type": "display_data"
    }
   ],
   "source": [
    "plt.figure(figsize=(16, 6))\n",
    "plt.xticks(rotation=45, ha='right')\n",
    "ax = sns.barplot(data=df, x='action', y='average precision', hue='model', palette='YlGnBu')\n",
    "ax.set_ylim([.2, 1])\n",
    "plt.tight_layout()\n",
    "plt.savefig(f'{SIMULATED_PATH}/docs/results.png')"
   ]
  },
  {
   "cell_type": "code",
   "execution_count": 43,
   "metadata": {},
   "outputs": [
    {
     "data": {
      "text/html": [
       "<div>\n",
       "<style scoped>\n",
       "    .dataframe tbody tr th:only-of-type {\n",
       "        vertical-align: middle;\n",
       "    }\n",
       "\n",
       "    .dataframe tbody tr th {\n",
       "        vertical-align: top;\n",
       "    }\n",
       "\n",
       "    .dataframe thead th {\n",
       "        text-align: right;\n",
       "    }\n",
       "</style>\n",
       "<table border=\"1\" class=\"dataframe\">\n",
       "  <thead>\n",
       "    <tr style=\"text-align: right;\">\n",
       "      <th></th>\n",
       "      <th>average precision</th>\n",
       "      <th>f1_macro</th>\n",
       "      <th>f1_micro</th>\n",
       "    </tr>\n",
       "    <tr>\n",
       "      <th>model</th>\n",
       "      <th></th>\n",
       "      <th></th>\n",
       "      <th></th>\n",
       "    </tr>\n",
       "  </thead>\n",
       "  <tbody>\n",
       "    <tr>\n",
       "      <th>direct prediction</th>\n",
       "      <td>0.652867</td>\n",
       "      <td>0.612690</td>\n",
       "      <td>0.745833</td>\n",
       "    </tr>\n",
       "    <tr>\n",
       "      <th>supervised</th>\n",
       "      <td>0.721822</td>\n",
       "      <td>0.697995</td>\n",
       "      <td>0.781019</td>\n",
       "    </tr>\n",
       "    <tr>\n",
       "      <th>pretrained probe</th>\n",
       "      <td>0.762797</td>\n",
       "      <td>0.724208</td>\n",
       "      <td>0.804167</td>\n",
       "    </tr>\n",
       "    <tr>\n",
       "      <th>finetuned</th>\n",
       "      <td>0.773878</td>\n",
       "      <td>0.723809</td>\n",
       "      <td>0.804630</td>\n",
       "    </tr>\n",
       "  </tbody>\n",
       "</table>\n",
       "</div>"
      ],
      "text/plain": [
       "                   average precision  f1_macro  f1_micro\n",
       "model                                                   \n",
       "direct prediction           0.652867  0.612690  0.745833\n",
       "supervised                  0.721822  0.697995  0.781019\n",
       "pretrained probe            0.762797  0.724208  0.804167\n",
       "finetuned                   0.773878  0.723809  0.804630"
      ]
     },
     "execution_count": 43,
     "metadata": {},
     "output_type": "execute_result"
    }
   ],
   "source": [
    "df.groupby('model').mean().sort_values(by='average precision')"
   ]
  },
  {
   "cell_type": "code",
   "execution_count": null,
   "metadata": {},
   "outputs": [],
   "source": []
  }
 ],
 "metadata": {
  "kernelspec": {
   "display_name": "Python 3",
   "language": "python",
   "name": "python3"
  },
  "language_info": {
   "codemirror_mode": {
    "name": "ipython",
    "version": 3
   },
   "file_extension": ".py",
   "mimetype": "text/x-python",
   "name": "python",
   "nbconvert_exporter": "python",
   "pygments_lexer": "ipython3",
   "version": "3.8.3"
  }
 },
 "nbformat": 4,
 "nbformat_minor": 4
}
