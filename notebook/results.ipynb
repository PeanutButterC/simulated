{
 "cells": [
  {
   "cell_type": "code",
   "execution_count": 3,
   "metadata": {},
   "outputs": [],
   "source": [
    "import numpy as np\n",
    "import tensorflow as tf\n",
    "import pandas as pd\n",
    "import os\n",
    "import sys\n",
    "sys.path.append('../scripts')\n",
    "from paths import SIMULATED_PATH\n",
    "from models import NaiveModel\n",
    "from simulated_data import NaiveDataGenerator, NaiveCrowdsourcingDataGenerator, ACTIONS\n",
    "from experiments import PretrainedProbe\n",
    "from omegaconf import OmegaConf\n",
    "from sklearn.metrics import average_precision_score, f1_score\n",
    "import matplotlib.pyplot as plt\n",
    "import seaborn as sns"
   ]
  },
  {
   "cell_type": "code",
   "execution_count": 14,
   "metadata": {},
   "outputs": [
    {
     "data": {
      "text/plain": [
       "{'model': {'name': 'naive', 'hidden_width': 128, 'discount_factor': 0.85, 'input_width': 90, 'output_width': 60, 'sampling_rate': 1, 'stride': 30, 'batch_size': 16}, 'patience': 5}"
      ]
     },
     "execution_count": 14,
     "metadata": {},
     "output_type": "execute_result"
    }
   ],
   "source": [
    "cfg = OmegaConf.load(f'{SIMULATED_PATH}/outputs/naive_batch-size-1024/.hydra/config.yaml')\n",
    "cfg.model.batch_size = 16\n",
    "cfg"
   ]
  },
  {
   "cell_type": "code",
   "execution_count": 16,
   "metadata": {},
   "outputs": [],
   "source": [
    "gen = NaiveCrowdsourcingDataGenerator(cfg)"
   ]
  },
  {
   "cell_type": "code",
   "execution_count": 17,
   "metadata": {},
   "outputs": [],
   "source": [
    "direct_model = tf.keras.models.Sequential([\n",
    "    tf.keras.layers.Flatten(),\n",
    "    tf.keras.layers.Dense(len(ACTIONS), activation='sigmoid')\n",
    "])\n",
    "direct_model(next(iter(gen.train))[0])\n",
    "direct_model.load_weights(f'{SIMULATED_PATH}/outputs/direct.h5')"
   ]
  },
  {
   "cell_type": "code",
   "execution_count": 19,
   "metadata": {},
   "outputs": [],
   "source": [
    "linear_classifier = tf.keras.models.Sequential([\n",
    "    tf.keras.layers.Flatten(),\n",
    "    tf.keras.layers.Dense(cfg.model.hidden_width, activation='relu'),\n",
    "    tf.keras.layers.Dense(len(ACTIONS), activation='sigmoid')\n",
    "])\n",
    "linear_classifier(next(iter(gen.train))[0])\n",
    "linear_classifier.load_weights(f'{SIMULATED_PATH}/outputs/linear_classifier.h5')"
   ]
  },
  {
   "cell_type": "code",
   "execution_count": 20,
   "metadata": {},
   "outputs": [],
   "source": [
    "model = NaiveModel(cfg)\n",
    "model_gen = NaiveDataGenerator(cfg)\n",
    "model(next(iter(model_gen.train))[0])\n",
    "model.load_weights(f'{SIMULATED_PATH}/outputs/naive_batch-size-1024/weights.h5')\n",
    "pretrained_probe = PretrainedProbe(cfg, model)\n",
    "pretrained_probe(next(iter(gen.train))[0])\n",
    "pretrained_probe.load_weights(f'{SIMULATED_PATH}/outputs/pretrained_probe.h5')"
   ]
  },
  {
   "cell_type": "code",
   "execution_count": 25,
   "metadata": {},
   "outputs": [],
   "source": [
    "true_labels = {k: [] for k in ACTIONS}\n",
    "direct_model_predictions = {k: [] for k in ACTIONS}\n",
    "linear_classifier_predictions = {k: [] for k in ACTIONS}\n",
    "pretrained_model_predictions = {k: [] for k in ACTIONS}\n",
    "for x_batch, y_batch in gen.test:\n",
    "    y_batch = y_batch.numpy()\n",
    "    direct_pred = direct_model(x_batch).numpy()\n",
    "    linear_classifier_pred = linear_classifier(x_batch).numpy()\n",
    "    pretrained_probe_pred = pretrained_probe(x_batch).numpy()\n",
    "    for y, y_direct, y_linear, y_pretrained in zip(y_batch, direct_pred, linear_classifier_pred, pretrained_probe_pred):\n",
    "        for i, action in enumerate(ACTIONS):\n",
    "            if y[i] == -1:\n",
    "                continue\n",
    "            true_labels[action].append(y[i])\n",
    "            direct_model_predictions[action].append(y_direct[i])\n",
    "            linear_classifier_predictions[action].append(y_linear[i])\n",
    "            pretrained_model_predictions[action].append(y_pretrained[i])\n",
    "for labels in [true_labels, direct_model_predictions, linear_classifier_predictions, pretrained_model_predictions]:\n",
    "    labels = {k: np.array(v) for k, v in labels.items()}"
   ]
  },
  {
   "cell_type": "code",
   "execution_count": 52,
   "metadata": {},
   "outputs": [
    {
     "data": {
      "text/html": [
       "<div>\n",
       "<style scoped>\n",
       "    .dataframe tbody tr th:only-of-type {\n",
       "        vertical-align: middle;\n",
       "    }\n",
       "\n",
       "    .dataframe tbody tr th {\n",
       "        vertical-align: top;\n",
       "    }\n",
       "\n",
       "    .dataframe thead th {\n",
       "        text-align: right;\n",
       "    }\n",
       "</style>\n",
       "<table border=\"1\" class=\"dataframe\">\n",
       "  <thead>\n",
       "    <tr style=\"text-align: right;\">\n",
       "      <th></th>\n",
       "      <th>action</th>\n",
       "      <th>model</th>\n",
       "      <th>average precision</th>\n",
       "      <th>f1_macro</th>\n",
       "      <th>f1_micro</th>\n",
       "    </tr>\n",
       "  </thead>\n",
       "  <tbody>\n",
       "    <tr>\n",
       "      <th>0</th>\n",
       "      <td>hit</td>\n",
       "      <td>direct prediction</td>\n",
       "      <td>0.845227</td>\n",
       "      <td>0.470588</td>\n",
       "      <td>0.888889</td>\n",
       "    </tr>\n",
       "    <tr>\n",
       "      <th>1</th>\n",
       "      <td>hit</td>\n",
       "      <td>linear classifier</td>\n",
       "      <td>0.909574</td>\n",
       "      <td>0.467456</td>\n",
       "      <td>0.877778</td>\n",
       "    </tr>\n",
       "    <tr>\n",
       "      <th>2</th>\n",
       "      <td>hit</td>\n",
       "      <td>pretrained probe</td>\n",
       "      <td>0.932741</td>\n",
       "      <td>0.690189</td>\n",
       "      <td>0.911111</td>\n",
       "    </tr>\n",
       "    <tr>\n",
       "      <th>3</th>\n",
       "      <td>slap</td>\n",
       "      <td>direct prediction</td>\n",
       "      <td>0.553322</td>\n",
       "      <td>0.496081</td>\n",
       "      <td>0.611111</td>\n",
       "    </tr>\n",
       "    <tr>\n",
       "      <th>4</th>\n",
       "      <td>slap</td>\n",
       "      <td>linear classifier</td>\n",
       "      <td>0.526385</td>\n",
       "      <td>0.509269</td>\n",
       "      <td>0.611111</td>\n",
       "    </tr>\n",
       "    <tr>\n",
       "      <th>...</th>\n",
       "      <td>...</td>\n",
       "      <td>...</td>\n",
       "      <td>...</td>\n",
       "      <td>...</td>\n",
       "      <td>...</td>\n",
       "    </tr>\n",
       "    <tr>\n",
       "      <th>67</th>\n",
       "      <td>tip</td>\n",
       "      <td>linear classifier</td>\n",
       "      <td>0.791040</td>\n",
       "      <td>0.857870</td>\n",
       "      <td>0.900000</td>\n",
       "    </tr>\n",
       "    <tr>\n",
       "      <th>68</th>\n",
       "      <td>tip</td>\n",
       "      <td>pretrained probe</td>\n",
       "      <td>0.806780</td>\n",
       "      <td>0.812890</td>\n",
       "      <td>0.877778</td>\n",
       "    </tr>\n",
       "    <tr>\n",
       "      <th>69</th>\n",
       "      <td>tumble</td>\n",
       "      <td>direct prediction</td>\n",
       "      <td>0.614071</td>\n",
       "      <td>0.699198</td>\n",
       "      <td>0.777778</td>\n",
       "    </tr>\n",
       "    <tr>\n",
       "      <th>70</th>\n",
       "      <td>tumble</td>\n",
       "      <td>linear classifier</td>\n",
       "      <td>0.592096</td>\n",
       "      <td>0.699198</td>\n",
       "      <td>0.777778</td>\n",
       "    </tr>\n",
       "    <tr>\n",
       "      <th>71</th>\n",
       "      <td>tumble</td>\n",
       "      <td>pretrained probe</td>\n",
       "      <td>0.632262</td>\n",
       "      <td>0.688889</td>\n",
       "      <td>0.766667</td>\n",
       "    </tr>\n",
       "  </tbody>\n",
       "</table>\n",
       "<p>72 rows × 5 columns</p>\n",
       "</div>"
      ],
      "text/plain": [
       "    action              model  average precision  f1_macro  f1_micro\n",
       "0      hit  direct prediction           0.845227  0.470588  0.888889\n",
       "1      hit  linear classifier           0.909574  0.467456  0.877778\n",
       "2      hit   pretrained probe           0.932741  0.690189  0.911111\n",
       "3     slap  direct prediction           0.553322  0.496081  0.611111\n",
       "4     slap  linear classifier           0.526385  0.509269  0.611111\n",
       "..     ...                ...                ...       ...       ...\n",
       "67     tip  linear classifier           0.791040  0.857870  0.900000\n",
       "68     tip   pretrained probe           0.806780  0.812890  0.877778\n",
       "69  tumble  direct prediction           0.614071  0.699198  0.777778\n",
       "70  tumble  linear classifier           0.592096  0.699198  0.777778\n",
       "71  tumble   pretrained probe           0.632262  0.688889  0.766667\n",
       "\n",
       "[72 rows x 5 columns]"
      ]
     },
     "execution_count": 52,
     "metadata": {},
     "output_type": "execute_result"
    }
   ],
   "source": [
    "df = []\n",
    "for action in ACTIONS:\n",
    "    for model, predictions in zip(['direct prediction', 'linear classifier', 'pretrained probe'], \n",
    "                                  [direct_model_predictions, linear_classifier_predictions, pretrained_model_predictions]):\n",
    "        df.append({\n",
    "            'action': action,\n",
    "            'model': model,\n",
    "            'average precision': average_precision_score(true_labels[action], predictions[action]),\n",
    "            'f1_macro': f1_score(true_labels[action], np.round(predictions[action]), average='macro'),\n",
    "            'f1_micro': f1_score(true_labels[action], np.round(predictions[action]), average='micro')\n",
    "        })\n",
    "df = pd.DataFrame(df)\n",
    "df"
   ]
  },
  {
   "cell_type": "code",
   "execution_count": 55,
   "metadata": {},
   "outputs": [
    {
     "data": {
      "image/png": "[encoded data removed]",
      "text/plain": [
       "<Figure size 1152x432 with 1 Axes>"
      ]
     },
     "metadata": {
      "needs_background": "light"
     },
     "output_type": "display_data"
    }
   ],
   "source": [
    "plt.figure(figsize=(16, 6))\n",
    "plt.xticks(rotation=45, ha='right')\n",
    "sns.barplot(data=df, x='action', y='average precision', hue='model', palette='Paired')\n",
    "plt.tight_layout()\n",
    "plt.savefig(f'{SIMULATED_PATH}/docs/results.png')"
   ]
  },
  {
   "cell_type": "code",
   "execution_count": null,
   "metadata": {},
   "outputs": [],
   "source": []
  }
 ],
 "metadata": {
  "kernelspec": {
   "display_name": "Python 3",
   "language": "python",
   "name": "python3"
  },
  "language_info": {
   "codemirror_mode": {
    "name": "ipython",
    "version": 3
   },
   "file_extension": ".py",
   "mimetype": "text/x-python",
   "name": "python",
   "nbconvert_exporter": "python",
   "pygments_lexer": "ipython3",
   "version": "3.8.3"
  }
 },
 "nbformat": 4,
 "nbformat_minor": 4
}
