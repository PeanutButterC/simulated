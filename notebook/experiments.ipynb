{
 "cells": [
  {
   "cell_type": "code",
   "execution_count": 1,
   "metadata": {},
   "outputs": [],
   "source": [
    "import os\n",
    "import pandas as pd\n",
    "import numpy as np\n",
    "import tensorflow as tf\n",
    "import tensorflow_probability as tfp\n",
    "import random\n",
    "from tqdm import tqdm\n",
    "from sklearn.dummy import DummyClassifier\n",
    "from sklearn.metrics import precision_recall_fscore_support, accuracy_score"
   ]
  },
  {
   "cell_type": "markdown",
   "metadata": {},
   "source": [
    "## Set path to project"
   ]
  },
  {
   "cell_type": "code",
   "execution_count": 2,
   "metadata": {},
   "outputs": [
    {
     "data": {
      "text/plain": [
       "'C:\\\\Users\\\\dylan\\\\Documents\\\\Simulated'"
      ]
     },
     "execution_count": 2,
     "metadata": {},
     "output_type": "execute_result"
    }
   ],
   "source": [
    "if 'SIMULATED_ROOT' not in os.environ:\n",
    "    raise 'Set environment variable SIMULATED_ROOT to the project root directory'\n",
    "base_path = os.environ['SIMULATED_ROOT']\n",
    "base_path"
   ]
  },
  {
   "cell_type": "markdown",
   "metadata": {},
   "source": [
    "# 1. Naive Model\n",
    "\n",
    "LSTM that given 180 raw input frames, predicts the next 60 output frames\n",
    "\n",
    "<img src=\"../docs/Naive.png\">"
   ]
  },
  {
   "cell_type": "markdown",
   "metadata": {},
   "source": [
    "## Set hyperparameters"
   ]
  },
  {
   "cell_type": "code",
   "execution_count": 3,
   "metadata": {},
   "outputs": [],
   "source": [
    "class Config():\n",
    "    def __init__(self):\n",
    "        self.batch_size = 256\n",
    "        self.loss_discount_factor = .85\n",
    "        self.conv_filters = 64\n",
    "        self.hidden_width = 128\n",
    "        self.input_width = 180\n",
    "        self.output_width = 60\n",
    "        self.sampling_rate = 1\n",
    "        self.stride = 6\n",
    "cfg = Config()"
   ]
  },
  {
   "cell_type": "markdown",
   "metadata": {},
   "source": [
    "### Create the data generator for the naive model"
   ]
  },
  {
   "cell_type": "code",
   "execution_count": 4,
   "metadata": {},
   "outputs": [],
   "source": [
    "class NaiveDataGenerator():\n",
    "    def __init__(self):\n",
    "        self.data_cols = ['target_posX', 'target_posY', 'target_posZ', \n",
    "                          'target_rotX', 'target_rotY', 'target_rotZ', 'target_rotW', \n",
    "                          'hand_posX', 'hand_posY', 'hand_posZ']\n",
    "        self.output_shapes = (\n",
    "            (None, cfg.input_width, 10), \n",
    "            (None, cfg.output_width, 10)\n",
    "        )\n",
    "        self.output_types = (tf.float32, tf.float32)\n",
    "        self.stores = {\n",
    "            'train': pd.HDFStore(f'{base_path}/data/train.h5'),\n",
    "            'dev': pd.HDFStore(f'{base_path}/data/dev.h5'),\n",
    "            'test': pd.HDFStore(f'{base_path}/data/test.h5')\n",
    "        }\n",
    "        self.sessions = {\n",
    "            'train': self.stores['train'].select_column('df', 'id').unique().tolist(),\n",
    "            'dev': self.stores['dev'].select_column('df', 'id').unique().tolist(),\n",
    "            'test': self.stores['test'].select_column('df', 'id').unique().tolist()\n",
    "        }\n",
    "        \n",
    "    def generate_train(self):\n",
    "        return self.generate('train')\n",
    "\n",
    "    def generate_dev(self):\n",
    "        return self.generate('dev')\n",
    "\n",
    "    def generate_test(self):\n",
    "        return self.generate('test')\n",
    "\n",
    "    @property\n",
    "    def train(self):\n",
    "        return tf.data.Dataset.from_generator(\n",
    "            self.generate_train, output_types=self.output_types, output_shapes=self.output_shapes)\n",
    "\n",
    "    @property\n",
    "    def dev(self):\n",
    "        return tf.data.Dataset.from_generator(\n",
    "            self.generate_dev, output_types=self.output_types, output_shapes=self.output_shapes)\n",
    "\n",
    "    @property\n",
    "    def test(self):\n",
    "        return tf.data.Dataset.from_generator(\n",
    "            self.generate_test, output_types=self.output_types, output_shapes=self.output_shapes)\n",
    "        \n",
    "    def generate(self, type):\n",
    "        store = self.stores[type]\n",
    "        sessions = self.sessions[type]\n",
    "        random.shuffle(sessions)\n",
    "        for session in sessions:\n",
    "            df = store.select('df', 'id=%r' % session)\n",
    "            assert df.index.values[0][0] == df.index.values[-1][0]\n",
    "            data = df[self.data_cols].to_numpy(dtype=np.float32)\n",
    "            ds = self.make_window_dataset(data)\n",
    "            for x, y in ds:\n",
    "                yield x, y\n",
    "        \n",
    "    def make_window_dataset(self, data):\n",
    "        total_width = cfg.input_width + cfg.output_width\n",
    "        ds = tf.keras.preprocessing.timeseries_dataset_from_array(\n",
    "            data=data,\n",
    "            targets=None,\n",
    "            sequence_length=total_width,\n",
    "            sequence_stride=cfg.stride,\n",
    "            sampling_rate=cfg.sampling_rate,\n",
    "            shuffle=True,\n",
    "            batch_size=cfg.batch_size,\n",
    "            end_index=data.shape[0] - total_width\n",
    "        )\n",
    "        ds = ds.map(self.split_window)\n",
    "        return ds\n",
    "        \n",
    "    def split_window(self, window):\n",
    "        x = window[:, :cfg.input_width, :]\n",
    "        y = window[:, cfg.input_width:, :]\n",
    "        x.set_shape([None, cfg.input_width, 10])\n",
    "        y.set_shape([None, cfg.output_width, 10])\n",
    "        return x, y    \n",
    "        \n",
    "data_generator = NaiveDataGenerator()"
   ]
  },
  {
   "cell_type": "markdown",
   "metadata": {},
   "source": [
    "### Verify that the generator is working\n",
    "Visualize a train sample"
   ]
  },
  {
   "cell_type": "code",
   "execution_count": 7,
   "metadata": {},
   "outputs": [
    {
     "data": {
      "image/png": "[encoded data removed]",
      "text/plain": [
       "<Figure size 576x576 with 3 Axes>"
      ]
     },
     "metadata": {
      "needs_background": "light"
     },
     "output_type": "display_data"
    }
   ],
   "source": [
    "import matplotlib.pyplot as plt\n",
    "iterator = iter(data_generator.train)\n",
    "fig, ax = plt.subplots(3, 1, figsize=(8, 8), sharex=True)\n",
    "for i in range(3):\n",
    "    x, y = next(iterator)\n",
    "    input_target_pos_x = x[0,:,0]\n",
    "    input_target_pos_y = x[0,:,1]\n",
    "    output_target_pos_x = y[0,:,0]\n",
    "    output_target_pos_y = y[0,:,1]\n",
    "    input_range = np.arange(0, cfg.input_width)\n",
    "    output_range = np.arange(cfg.input_width, cfg.input_width + cfg.output_width)\n",
    "    ax[i].plot(input_range, input_target_pos_x, label='input x')\n",
    "    ax[i].plot(output_range, output_target_pos_x, label='output x')\n",
    "    ax[i].plot(input_range, input_target_pos_y, label='input y')\n",
    "    ax[i].plot(output_range, output_target_pos_y, label='output y')\n",
    "    if i == 0:\n",
    "        ax[i].legend()\n",
    "plt.show()"
   ]
  },
  {
   "cell_type": "markdown",
   "metadata": {},
   "source": [
    "### Code for the naive model"
   ]
  },
  {
   "cell_type": "code",
   "execution_count": 8,
   "metadata": {},
   "outputs": [],
   "source": [
    "class NaiveModel(tf.keras.Model):\n",
    "    def __init__(self):\n",
    "        super().__init__()\n",
    "        self.dense = tf.keras.layers.Dense(cfg.hidden_width)\n",
    "        self.lstm_cell = tf.keras.layers.LSTMCell(cfg.hidden_width)\n",
    "        self.lstm = tf.keras.layers.RNN(self.lstm_cell, return_state=True)\n",
    "        self.output_layer = tf.keras.layers.Dense(10)\n",
    "        \n",
    "    def warmup(self, x):\n",
    "        x = self.dense(x)\n",
    "        x, *state = self.lstm(x)\n",
    "        return x, state\n",
    "    \n",
    "    def call(self, x, training=None):\n",
    "        predictions = []\n",
    "        x, state = self.warmup(x)        \n",
    "        first_prediction = self.output_layer(x)\n",
    "        predictions.append(first_prediction)\n",
    "        for _ in range(1, cfg.output_width):\n",
    "            x, state = self.lstm_cell(x, states=state, training=training)\n",
    "            next_prediction = self.output_layer(x)\n",
    "            predictions.append(next_prediction)            \n",
    "        predictions = tf.transpose(tf.stack(predictions), [1, 0, 2])\n",
    "        return predictions        "
   ]
  },
  {
   "cell_type": "markdown",
   "metadata": {},
   "source": [
    "### Train the naive model"
   ]
  },
  {
   "cell_type": "markdown",
   "metadata": {},
   "source": [
    "<b>Discounted loss function</b>"
   ]
  },
  {
   "cell_type": "code",
   "execution_count": 9,
   "metadata": {},
   "outputs": [],
   "source": [
    "def discounted_mse(y_true, y_pred):\n",
    "    discount = np.power(np.ones(y_true.shape[1]) * cfg.loss_discount_factor, np.arange(y_true.shape[1])).reshape((1, -1))\n",
    "    discount = tf.convert_to_tensor(discount, dtype=tf.float32)\n",
    "    loss = tf.keras.losses.mean_squared_error(y_true, y_pred)\n",
    "    return loss * discount"
   ]
  },
  {
   "cell_type": "markdown",
   "metadata": {},
   "source": [
    "<b>Training loop</b> "
   ]
  },
  {
   "cell_type": "code",
   "execution_count": 10,
   "metadata": {},
   "outputs": [],
   "source": [
    "weights_path = f'{base_path}/outputs/batch256/weights.h5' #SET WEIGHTS PATH"
   ]
  },
  {
   "cell_type": "code",
   "execution_count": 11,
   "metadata": {},
   "outputs": [
    {
     "name": "stdout",
     "output_type": "stream",
     "text": [
      "Loaded weights from path: C:\\Users\\dylan\\Documents\\Simulated/outputs/batch256/weights.h5\n"
     ]
    }
   ],
   "source": [
    "model = NaiveModel()\n",
    "model(next(iter(data_generator.train))[0])\n",
    "model.load_weights(weights_path)\n",
    "print(f'Loaded weights from path: {weights_path}')"
   ]
  },
  {
   "cell_type": "markdown",
   "metadata": {},
   "source": [
    "### Visualize model predictions\n",
    "See how predicted trajectory compares to true trajectory on test data"
   ]
  },
  {
   "cell_type": "code",
   "execution_count": 12,
   "metadata": {},
   "outputs": [
    {
     "data": {
      "image/png": "[encoded data removed]",
      "text/plain": [
       "<Figure size 1152x576 with 6 Axes>"
      ]
     },
     "metadata": {
      "needs_background": "light"
     },
     "output_type": "display_data"
    }
   ],
   "source": [
    "import matplotlib.pyplot as plt\n",
    "iterator = iter(data_generator.test)\n",
    "fig, ax = plt.subplots(3, 2, figsize=(16, 8), sharex=True)\n",
    "for i in range(6):\n",
    "    x, y = next(iterator)\n",
    "    y_pred = model(x)\n",
    "    input_target_pos_x = x[0,:,0]\n",
    "    input_target_pos_y = x[0,:,1]\n",
    "    output_target_pos_x = y[0,:,0]\n",
    "    output_target_pos_y = y[0,:,1]\n",
    "    pred_target_x = y_pred[0,:,0]\n",
    "    pred_target_y = y_pred[0,:,1]\n",
    "    input_range = np.arange(0, cfg.input_width)\n",
    "    output_range = np.arange(cfg.input_width, cfg.input_width + cfg.output_width)\n",
    "    ax[i % 3, i // 3].plot(input_range, input_target_pos_x, label='input x')\n",
    "    ax[i % 3, i // 3].plot(input_range, input_target_pos_y, label='input y')\n",
    "    ax[i % 3, i // 3].plot(output_range, output_target_pos_x, label='true x')\n",
    "    ax[i % 3, i // 3].plot(output_range, output_target_pos_y, label='true y')\n",
    "    ax[i % 3, i // 3].plot(output_range, pred_target_x, label='predicted x')\n",
    "    ax[i % 3, i // 3].plot(output_range, pred_target_y, label='predicted y')\n",
    "    if i == 0:\n",
    "        ax[0, 0].legend()\n",
    "plt.show()"
   ]
  },
  {
   "cell_type": "markdown",
   "metadata": {},
   "source": [
    "### Evaluate model on linear probe"
   ]
  },
  {
   "cell_type": "markdown",
   "metadata": {},
   "source": [
    "<b>Data generator for linear probe</b>"
   ]
  },
  {
   "cell_type": "code",
   "execution_count": 13,
   "metadata": {},
   "outputs": [],
   "source": [
    "class ProbeDataGenerator():\n",
    "    def __init__(self):\n",
    "        self.data_cols = ['target_posX', 'target_posY', 'target_posZ', \n",
    "                          'target_rotX', 'target_rotY', 'target_rotZ', 'target_rotW', \n",
    "                          'hand_posX', 'hand_posY', 'hand_posZ', 'hand_state']\n",
    "        self.output_shapes = (\n",
    "            (None, cfg.input_width, 10),\n",
    "            (None, cfg.input_width)\n",
    "        )\n",
    "        self.output_types = (tf.float32, tf.int64)\n",
    "        self.stores = {\n",
    "            'train': pd.HDFStore(f'{base_path}/data/train.h5'),\n",
    "            'dev': pd.HDFStore(f'{base_path}/data/dev.h5'),\n",
    "            'test': pd.HDFStore(f'{base_path}/data/test.h5')\n",
    "        }\n",
    "        self.sessions = {\n",
    "            'train': self.stores['train'].select_column('df', 'id').unique().tolist(),\n",
    "            'dev': self.stores['dev'].select_column('df', 'id').unique().tolist(),\n",
    "            'test': self.stores['test'].select_column('df', 'id').unique().tolist()\n",
    "        }\n",
    "        \n",
    "    def generate_train(self):\n",
    "        return self.generate('train')\n",
    "\n",
    "    def generate_dev(self):\n",
    "        return self.generate('dev')\n",
    "\n",
    "    def generate_test(self):\n",
    "        return self.generate('test')\n",
    "\n",
    "    @property\n",
    "    def train(self):\n",
    "        return tf.data.Dataset.from_generator(self.generate_train, output_types=self.output_types, output_shapes=self.output_shapes)\n",
    "\n",
    "    @property\n",
    "    def dev(self):\n",
    "        return tf.data.Dataset.from_generator(self.generate_dev, output_types=self.output_types, output_shapes=self.output_shapes)\n",
    "\n",
    "    @property\n",
    "    def test(self):\n",
    "        return tf.data.Dataset.from_generator(self.generate_test, output_types=self.output_types, output_shapes=self.output_shapes)\n",
    "    \n",
    "    def generate(self, type):\n",
    "        store = self.stores[type]\n",
    "        sessions = self.sessions[type]\n",
    "        random.shuffle(sessions)\n",
    "        for session in sessions:\n",
    "            df = store.select('df', 'id=%r' % session)\n",
    "            assert df.index.values[0][0] == df.index.values[-1][0]\n",
    "            data = df[self.data_cols].to_numpy(dtype=np.float32)\n",
    "            ds = self.make_window_dataset(data)\n",
    "            for x, y in ds:\n",
    "                yield x, y\n",
    "        \n",
    "    def make_window_dataset(self, data):\n",
    "        ds = tf.keras.preprocessing.timeseries_dataset_from_array(\n",
    "            data=data,\n",
    "            targets=None,\n",
    "            sequence_length=cfg.input_width,\n",
    "            sequence_stride=cfg.input_width,\n",
    "            sampling_rate=cfg.sampling_rate,\n",
    "            shuffle=True,\n",
    "            batch_size=cfg.batch_size,\n",
    "            end_index=data.shape[0] - cfg.input_width\n",
    "        )\n",
    "        ds = ds.map(self.split_window)\n",
    "        return ds\n",
    "        \n",
    "    def split_window(self, window):\n",
    "        states = window[:, :, -1]\n",
    "        window = window[:, :, :-1]\n",
    "        states.set_shape([None, cfg.input_width])\n",
    "        window.set_shape([None, cfg.input_width, 10])\n",
    "        return window, states\n",
    "    \n",
    "probe_generator = ProbeDataGenerator()"
   ]
  },
  {
   "cell_type": "markdown",
   "metadata": {},
   "source": [
    "<b>Build the probe</b>"
   ]
  },
  {
   "cell_type": "code",
   "execution_count": 14,
   "metadata": {},
   "outputs": [],
   "source": [
    "class LinearProbe(tf.keras.Model):\n",
    "    def __init__(self, model):\n",
    "        super().__init__()\n",
    "        self.model = model\n",
    "        self.rnn = tf.keras.layers.RNN(self.model.lstm_cell, return_sequences=True)\n",
    "        self.output_layer = tf.keras.layers.Dense(10, activation='softmax')\n",
    "        self.model.trainable = False\n",
    "        self.rnn.trainable = False\n",
    "        \n",
    "    def call(self, x):\n",
    "        x = self.model.dense(x)\n",
    "        x = self.rnn(x)\n",
    "        return self.output_layer(x)"
   ]
  },
  {
   "cell_type": "markdown",
   "metadata": {},
   "source": [
    "<b>Train the model</b>"
   ]
  },
  {
   "cell_type": "code",
   "execution_count": 15,
   "metadata": {},
   "outputs": [],
   "source": [
    "probe_weights_path = f'{base_path}/outputs/batch256/probe_weights.h5' #SET PROBE WEIGHTS PATH"
   ]
  },
  {
   "cell_type": "code",
   "execution_count": null,
   "metadata": {},
   "outputs": [],
   "source": [
    "probe_model = LinearProbe(model)\n",
    "early_stopping = tf.keras.callbacks.EarlyStopping(patience=5, verbose=1)\n",
    "checkpoint = tf.keras.callbacks.ModelCheckpoint(\n",
    "    probe_weights_path, verbose=1, save_best_only=True, save_weights_only=True)\n",
    "callbacks = [early_stopping, checkpoint]\n",
    "probe_model.compile(optimizer='adam', loss='sparse_categorical_crossentropy', metrics=['accuracy'])\n",
    "probe_model(next(iter(probe_generator.train))[0])\n",
    "probe_model.summary()\n",
    "probe_model.fit(probe_generator.train, validation_data=probe_generator.dev, callbacks=callbacks, epochs=999, verbose=1)"
   ]
  },
  {
   "cell_type": "markdown",
   "metadata": {},
   "source": [
    "Alternatively, load weights from file"
   ]
  },
  {
   "cell_type": "code",
   "execution_count": 16,
   "metadata": {},
   "outputs": [
    {
     "name": "stdout",
     "output_type": "stream",
     "text": [
      "Loaded weights from path: C:\\Users\\dylan\\Documents\\Simulated/outputs/batch256/probe_weights.h5\n"
     ]
    }
   ],
   "source": [
    "probe_model = LinearProbe(model)\n",
    "probe_model(next(iter(probe_generator.train))[0])\n",
    "probe_model.load_weights(probe_weights_path)\n",
    "print(f'Loaded weights from path: {probe_weights_path}')"
   ]
  },
  {
   "cell_type": "markdown",
   "metadata": {},
   "source": [
    "<b>Evaluate the probe</b>"
   ]
  },
  {
   "cell_type": "code",
   "execution_count": 17,
   "metadata": {},
   "outputs": [
    {
     "name": "stderr",
     "output_type": "stream",
     "text": [
      "100it [00:28,  3.48it/s]\n"
     ]
    }
   ],
   "source": [
    "y_true = []\n",
    "y_pred = []\n",
    "for x, y in tqdm(probe_generator.dev):\n",
    "    y_ = probe_model(x)\n",
    "    y_ = tf.math.argmax(y_, axis=-1)\n",
    "    y = tf.reshape(y, (-1,))\n",
    "    y_ = tf.reshape(y_, (-1,))\n",
    "    y_true.append(y)\n",
    "    y_pred.append(y_)\n",
    "y_true = tf.concat(y_true, axis=0)\n",
    "y_pred = tf.concat(y_pred, axis=0)"
   ]
  },
  {
   "cell_type": "code",
   "execution_count": 18,
   "metadata": {},
   "outputs": [
    {
     "name": "stdout",
     "output_type": "stream",
     "text": [
      "Accuracy: 0.96\n",
      "Precision: 0.88\n",
      "Recall: 0.82\n",
      "F-score: 0.85\n"
     ]
    }
   ],
   "source": [
    "acc = accuracy_score(y_true, y_pred)\n",
    "scores = precision_recall_fscore_support(y_true, y_pred, average='macro')\n",
    "print(f'Accuracy: {acc:.2f}\\nPrecision: {scores[0]:.2f}\\nRecall: {scores[1]:.2f}\\nF-score: {scores[2]:.2f}')"
   ]
  },
  {
   "cell_type": "markdown",
   "metadata": {},
   "source": [
    "# Chunked Model\n",
    "\n",
    "Similar to before, but input is divided into chunks that are encoded piece-by-piece by a convolutional encoder\n",
    "\n",
    "<img src=\"../docs/Chunked.png\">"
   ]
  },
  {
   "cell_type": "markdown",
   "metadata": {},
   "source": [
    "### Set hyperparameters"
   ]
  },
  {
   "cell_type": "code",
   "execution_count": 46,
   "metadata": {},
   "outputs": [],
   "source": [
    "class Config():\n",
    "    def __init__(self):\n",
    "        self.batch_size = 256\n",
    "        self.filters = 64\n",
    "        self.hidden_width = 128\n",
    "        self.input_width = 10\n",
    "        self.output_width = 10\n",
    "        self.sampling_rate = 1\n",
    "        self.stride = 30\n",
    "        self.chunk_size = 16\n",
    "cfg = Config()"
   ]
  },
  {
   "cell_type": "markdown",
   "metadata": {},
   "source": [
    "### Create the data generator"
   ]
  },
  {
   "cell_type": "code",
   "execution_count": 47,
   "metadata": {},
   "outputs": [],
   "source": [
    "class ChunkedDataGenerator():\n",
    "    def __init__(self):\n",
    "        self.data_cols = ['target_posX', 'target_posY', 'target_posZ', \n",
    "                          'target_rotX', 'target_rotY', 'target_rotZ', 'target_rotW', \n",
    "                          'hand_posX', 'hand_posY', 'hand_posZ']\n",
    "        self.output_shapes = (\n",
    "            (None, cfg.input_width, cfg.chunk_size, 10), \n",
    "            (None, cfg.output_width, cfg.chunk_size, 10)\n",
    "        )\n",
    "        self.output_types = (tf.float32, tf.float32)\n",
    "        self.stores = {\n",
    "            'train': pd.HDFStore(f'{base_path}/data/train.h5'),\n",
    "            'dev': pd.HDFStore(f'{base_path}/data/dev.h5'),\n",
    "            'test': pd.HDFStore(f'{base_path}/data/test.h5')\n",
    "        }\n",
    "        self.sessions = {\n",
    "            'train': self.stores['train'].select_column('df', 'id').unique().tolist(),\n",
    "            'dev': self.stores['dev'].select_column('df', 'id').unique().tolist(),\n",
    "            'test': self.stores['test'].select_column('df', 'id').unique().tolist()\n",
    "        }\n",
    "        \n",
    "    def generate_train(self):\n",
    "        return self.generate('train')\n",
    "\n",
    "    def generate_dev(self):\n",
    "        return self.generate('dev')\n",
    "\n",
    "    def generate_test(self):\n",
    "        return self.generate('test')\n",
    "\n",
    "    @property\n",
    "    def train(self):\n",
    "        return tf.data.Dataset.from_generator(\n",
    "            self.generate_train, output_types=self.output_types, output_shapes=self.output_shapes)\n",
    "\n",
    "    @property\n",
    "    def dev(self):\n",
    "        return tf.data.Dataset.from_generator(\n",
    "            self.generate_dev, output_types=self.output_types, output_shapes=self.output_shapes)\n",
    "\n",
    "    @property\n",
    "    def test(self):\n",
    "        return tf.data.Dataset.from_generator(\n",
    "            self.generate_test, output_types=self.output_types, output_shapes=self.output_shapes)\n",
    "        \n",
    "    def generate(self, type):\n",
    "        store = self.stores[type]\n",
    "        sessions = self.sessions[type]\n",
    "        random.shuffle(sessions)\n",
    "        for session in sessions:\n",
    "            df = store.select('df', 'id=%r' % session)\n",
    "            assert df.index.values[0][0] == df.index.values[-1][0]\n",
    "            data = df[self.data_cols].to_numpy(dtype=np.float32)\n",
    "            ds = self.make_window_dataset(data)\n",
    "            for x, y in ds:\n",
    "                yield x, y\n",
    "        \n",
    "    def make_window_dataset(self, data):\n",
    "        total_width = (cfg.input_width + cfg.output_width) * cfg.chunk_size\n",
    "        ds = tf.keras.preprocessing.timeseries_dataset_from_array(\n",
    "            data=data,\n",
    "            targets=None,\n",
    "            sequence_length=total_width,\n",
    "            sequence_stride=cfg.stride,\n",
    "            sampling_rate=cfg.sampling_rate,\n",
    "            shuffle=True,\n",
    "            batch_size=cfg.batch_size,\n",
    "            end_index=data.shape[0] - total_width\n",
    "        )\n",
    "        ds = ds.map(self.split_window)\n",
    "        return ds\n",
    "        \n",
    "    def split_window(self, window):\n",
    "        batch_size = tf.shape(window)[0]\n",
    "        input_width = cfg.input_width * cfg.chunk_size\n",
    "        x = tf.reshape(window[:, :input_width, :], (batch_size, cfg.input_width, cfg.chunk_size, 10))\n",
    "        y = tf.reshape(window[:, input_width:, :], (batch_size, cfg.output_width, cfg.chunk_size, 10))\n",
    "        x.set_shape([None, cfg.input_width, cfg.chunk_size, 10])\n",
    "        y.set_shape([None, cfg.output_width, cfg.chunk_size, 10])\n",
    "        return x, y    \n",
    "        \n",
    "data_generator = ChunkedDataGenerator()"
   ]
  },
  {
   "cell_type": "markdown",
   "metadata": {},
   "source": [
    "<b>Visualize the data</b>"
   ]
  },
  {
   "cell_type": "code",
   "execution_count": 48,
   "metadata": {},
   "outputs": [
    {
     "data": {
      "image/png": "[encoded data removed]",
      "text/plain": [
       "<Figure size 576x576 with 3 Axes>"
      ]
     },
     "metadata": {
      "needs_background": "light"
     },
     "output_type": "display_data"
    }
   ],
   "source": [
    "import matplotlib.pyplot as plt\n",
    "iterator = iter(data_generator.train)\n",
    "fig, ax = plt.subplots(3, 1, figsize=(8, 8), sharex=True)\n",
    "for i in range(3):\n",
    "    x, y = next(iterator)\n",
    "    input_target_pos_x = x[0,:,:,0].numpy().flatten()\n",
    "    input_target_pos_y = x[0,:,:,1].numpy().flatten()\n",
    "    output_target_pos_x = y[0,:,:,0].numpy().flatten()\n",
    "    output_target_pos_y = y[0,:,:,1].numpy().flatten()\n",
    "    input_width = cfg.input_width * cfg.chunk_size\n",
    "    output_width = cfg.output_width * cfg.chunk_size\n",
    "    input_range = np.arange(0, input_width)\n",
    "    output_range = np.arange(input_width, input_width + output_width)\n",
    "    ax[i].plot(input_range, input_target_pos_x, label='input x')\n",
    "    ax[i].plot(output_range, output_target_pos_x, label='output x')\n",
    "    ax[i].plot(input_range, input_target_pos_y, label='input y')\n",
    "    ax[i].plot(output_range, output_target_pos_y, label='output y')\n",
    "    if i == 0:\n",
    "        ax[i].legend()\n",
    "plt.show()"
   ]
  },
  {
   "cell_type": "markdown",
   "metadata": {},
   "source": [
    "### Code for the chunked model"
   ]
  },
  {
   "cell_type": "code",
   "execution_count": 49,
   "metadata": {},
   "outputs": [],
   "source": [
    "class ChunkedModel(tf.keras.Model):\n",
    "    def __init__(self):\n",
    "        super().__init__()\n",
    "        self.encoder = tf.keras.models.Sequential([\n",
    "            tf.keras.layers.Conv1D(cfg.filters, 3, activation='relu'),\n",
    "            tf.keras.layers.Flatten(),\n",
    "            tf.keras.layers.Dense(cfg.hidden_width)\n",
    "        ])\n",
    "        self.encoder_layer = tf.keras.layers.TimeDistributed(self.encoder)\n",
    "        self.lstm_cell = tf.keras.layers.LSTMCell(cfg.hidden_width)\n",
    "        self.lstm_rnn = tf.keras.layers.RNN(self.lstm_cell, return_state=True)\n",
    "        self.output_layer = tf.keras.layers.Dense(cfg.chunk_size * 10)\n",
    "        self.output_reshape = tf.keras.layers.Reshape((cfg.output_width, cfg.chunk_size, 10))\n",
    "        \n",
    "    def warmup(self, x):\n",
    "        x = self.encoder_layer(x)\n",
    "        x, *state = self.lstm_rnn(x)\n",
    "        return x, state\n",
    "    \n",
    "    def call(self, x, training=None):\n",
    "        predictions = []\n",
    "        x, state = self.warmup(x)\n",
    "        \n",
    "        first_prediction = self.output_layer(x)\n",
    "        predictions.append(first_prediction)\n",
    "        \n",
    "        for _ in range(1, cfg.output_width):\n",
    "            x, state = self.lstm_cell(x, states=state, training=training)\n",
    "            next_prediction = self.output_layer(x)\n",
    "            predictions.append(next_prediction)\n",
    "            \n",
    "        predictions = tf.transpose(tf.stack(predictions), [1, 0, 2])\n",
    "        predictions = self.output_reshape(predictions)\n",
    "        return predictions"
   ]
  },
  {
   "cell_type": "markdown",
   "metadata": {},
   "source": [
    "### Trained the chunked model"
   ]
  },
  {
   "cell_type": "code",
   "execution_count": 50,
   "metadata": {},
   "outputs": [],
   "source": [
    "weights_path = f'{base_path}/outputs/raw/weights.h5' #SET WEIGHTS PATH"
   ]
  },
  {
   "cell_type": "code",
   "execution_count": 51,
   "metadata": {},
   "outputs": [
    {
     "name": "stdout",
     "output_type": "stream",
     "text": [
      "Loaded weights from path C:\\Users\\dylan\\Documents\\Simulated/outputs/raw/weights.h5\n"
     ]
    }
   ],
   "source": [
    "model = ChunkedModel()\n",
    "model(next(iter(data_generator.train))[0])\n",
    "model.load_weights(weights_path)\n",
    "print(f'Loaded weights from path {weights_path}')"
   ]
  },
  {
   "cell_type": "markdown",
   "metadata": {},
   "source": [
    "### Evaluate chunked model on linear probe"
   ]
  },
  {
   "cell_type": "code",
   "execution_count": 52,
   "metadata": {},
   "outputs": [],
   "source": [
    "class ProbeDataGenerator():\n",
    "    def __init__(self):\n",
    "        self.data_cols = ['target_posX', 'target_posY', 'target_posZ', \n",
    "                          'target_rotX', 'target_rotY', 'target_rotZ', 'target_rotW', \n",
    "                          'hand_posX', 'hand_posY', 'hand_posZ', 'hand_state']\n",
    "        self.output_shapes = (\n",
    "            (None, cfg.input_width, cfg.chunk_size, 10),\n",
    "            (None, cfg.input_width)\n",
    "        )\n",
    "        self.output_types = (tf.float32, tf.int64)\n",
    "        self.stores = {\n",
    "            'train': pd.HDFStore(f'{base_path}/data/train.h5'),\n",
    "            'dev': pd.HDFStore(f'{base_path}/data/dev.h5'),\n",
    "            'test': pd.HDFStore(f'{base_path}/data/test.h5')\n",
    "        }\n",
    "        self.sessions = {\n",
    "            'train': self.stores['train'].select_column('df', 'id').unique().tolist(),\n",
    "            'dev': self.stores['dev'].select_column('df', 'id').unique().tolist(),\n",
    "            'test': self.stores['test'].select_column('df', 'id').unique().tolist()\n",
    "        }\n",
    "        \n",
    "    def generate_train(self):\n",
    "        return self.generate('train')\n",
    "\n",
    "    def generate_dev(self):\n",
    "        return self.generate('dev')\n",
    "\n",
    "    def generate_test(self):\n",
    "        return self.generate('test')\n",
    "\n",
    "    @property\n",
    "    def train(self):\n",
    "        return tf.data.Dataset.from_generator(self.generate_train, output_types=self.output_types, output_shapes=self.output_shapes)\n",
    "\n",
    "    @property\n",
    "    def dev(self):\n",
    "        return tf.data.Dataset.from_generator(self.generate_dev, output_types=self.output_types, output_shapes=self.output_shapes)\n",
    "\n",
    "    @property\n",
    "    def test(self):\n",
    "        return tf.data.Dataset.from_generator(self.generate_test, output_types=self.output_types, output_shapes=self.output_shapes)\n",
    "    \n",
    "    def generate(self, type):\n",
    "        store = self.stores[type]\n",
    "        sessions = self.sessions[type]\n",
    "        random.shuffle(sessions)\n",
    "        for session in sessions:\n",
    "            df = store.select('df', 'id=%r' % session)\n",
    "            assert df.index.values[0][0] == df.index.values[-1][0]\n",
    "            data = df[self.data_cols].to_numpy(dtype=np.float32)\n",
    "            ds = self.make_window_dataset(data)\n",
    "            for x, y in ds:\n",
    "                yield x, y\n",
    "        \n",
    "    def make_window_dataset(self, data):\n",
    "        width = cfg.input_width * cfg.chunk_size\n",
    "        ds = tf.keras.preprocessing.timeseries_dataset_from_array(\n",
    "            data=data,\n",
    "            targets=None,\n",
    "            sequence_length=width,\n",
    "            sequence_stride=width,\n",
    "            sampling_rate=cfg.sampling_rate,\n",
    "            shuffle=True,\n",
    "            batch_size=cfg.batch_size,\n",
    "            end_index=data.shape[0] - cfg.input_width\n",
    "        )\n",
    "        ds = ds.map(self.split_window)\n",
    "        return ds\n",
    "        \n",
    "    def split_window(self, window):\n",
    "        batch_size = tf.shape(window)[0]\n",
    "        states = window[:, :, -1]\n",
    "        window = window[:, :, :-1]\n",
    "        states = tf.reshape(states, (batch_size, cfg.input_width, cfg.chunk_size))\n",
    "        window = tf.reshape(window, (batch_size, cfg.input_width, cfg.chunk_size, 10))\n",
    "        counts = tfp.stats.count_integers(tf.cast(states, tf.int32), axis=-1)\n",
    "        states = tf.math.argmax(counts, axis=0, output_type=tf.int32)\n",
    "        states.set_shape([None, cfg.input_width])\n",
    "        window.set_shape([None, cfg.input_width, cfg.chunk_size, 10])\n",
    "        return window, states\n",
    "    \n",
    "probe_generator = ProbeDataGenerator()"
   ]
  },
  {
   "cell_type": "markdown",
   "metadata": {},
   "source": [
    "<b>Build the linear probe</b>"
   ]
  },
  {
   "cell_type": "code",
   "execution_count": 53,
   "metadata": {},
   "outputs": [],
   "source": [
    "class LSTMProbe(tf.keras.Model):\n",
    "    def __init__(self, model, use_lstm):\n",
    "        super().__init__()\n",
    "        self.model = model\n",
    "        self.use_lstm = use_lstm\n",
    "        self.rnn = tf.keras.layers.RNN(self.model.lstm_cell, return_sequences=True)\n",
    "        self.output_layer = tf.keras.layers.Dense(10, activation='softmax')\n",
    "        self.model.trainable = False\n",
    "        self.rnn.trainable = False\n",
    "        \n",
    "    def call(self, x):\n",
    "        x = self.model.encoder_layer(x)\n",
    "        if self.use_lstm:\n",
    "            x = self.rnn(x)\n",
    "        return self.output_layer(x)"
   ]
  },
  {
   "cell_type": "markdown",
   "metadata": {},
   "source": [
    "<b>Train the probe</b>"
   ]
  },
  {
   "cell_type": "code",
   "execution_count": 58,
   "metadata": {},
   "outputs": [],
   "source": [
    "probe_weights_path = f'{base_path}/outputs/raw/probe_weights.h5' #SET PROBE WEIGHTS PATH"
   ]
  },
  {
   "cell_type": "code",
   "execution_count": 59,
   "metadata": {},
   "outputs": [
    {
     "name": "stdout",
     "output_type": "stream",
     "text": [
      "Loaded weights from path: C:\\Users\\dylan\\Documents\\Simulated/outputs/raw/probe_weights.h5\n"
     ]
    }
   ],
   "source": [
    "probe_model = LSTMProbe(model, False)\n",
    "probe_model(next(iter(probe_generator.train))[0])\n",
    "probe_model.load_weights(probe_weights_path)\n",
    "print(f'Loaded weights from path: {probe_weights_path}')"
   ]
  },
  {
   "cell_type": "markdown",
   "metadata": {},
   "source": [
    "<b>Evaluate the probe</b>"
   ]
  },
  {
   "cell_type": "code",
   "execution_count": 61,
   "metadata": {},
   "outputs": [
    {
     "name": "stderr",
     "output_type": "stream",
     "text": [
      "100it [00:24,  4.13it/s]\n"
     ]
    }
   ],
   "source": [
    "y_true = []\n",
    "y_pred = []\n",
    "for x, y in tqdm(probe_generator.dev):\n",
    "    y_ = probe_model(x)\n",
    "    y_ = tf.math.argmax(y_, axis=-1)\n",
    "    y = tf.reshape(y, (-1,))\n",
    "    y_ = tf.reshape(y_, (-1,))\n",
    "    y_true.append(y)\n",
    "    y_pred.append(y_)\n",
    "y_true = tf.concat(y_true, axis=0)\n",
    "y_pred = tf.concat(y_pred, axis=0)"
   ]
  },
  {
   "cell_type": "code",
   "execution_count": 60,
   "metadata": {},
   "outputs": [
    {
     "name": "stdout",
     "output_type": "stream",
     "text": [
      "Accuracy: 0.02\n",
      "Precision: 0.04\n",
      "Recall: 0.11\n",
      "F-score: 0.01\n"
     ]
    }
   ],
   "source": [
    "acc = accuracy_score(y_true, y_pred)\n",
    "scores = precision_recall_fscore_support(y_true, y_pred, average='macro')\n",
    "print(f'Accuracy: {acc:.2f}\\nPrecision: {scores[0]:.2f}\\nRecall: {scores[1]:.2f}\\nF-score: {scores[2]:.2f}')"
   ]
  },
  {
   "cell_type": "markdown",
   "metadata": {},
   "source": [
    "# shape of outputs for codes"
   ]
  },
  {
   "cell_type": "markdown",
   "metadata": {},
   "source": [
    "# Contrastive Predictive Coding (CPC) Model\n",
    "\n",
    "Chunked inputs <i>as well as output observations</i> are encoded with a convolutional encoder\n",
    "\n",
    "An LSTM over the encoded inputs predicts the encoded outputs\n",
    "\n",
    "Half of output sequences are incorrect. The model is trained to contrast real with fake inputs\n",
    "\n",
    "<img src=\"../docs/CPC.png\">"
   ]
  },
  {
   "cell_type": "markdown",
   "metadata": {},
   "source": [
    "### Set hyperparameters"
   ]
  },
  {
   "cell_type": "code",
   "execution_count": 31,
   "metadata": {},
   "outputs": [],
   "source": [
    "class Config():\n",
    "    def __init__(self):\n",
    "        self.batch_size = 256\n",
    "        self.filters = 64\n",
    "        self.hidden_width = 256\n",
    "        self.input_width = 10\n",
    "        self.output_width = 10\n",
    "        self.sampling_rate = 1\n",
    "        self.stride = 30\n",
    "        self.chunk_size = 16\n",
    "cfg = Config()"
   ]
  },
  {
   "cell_type": "markdown",
   "metadata": {},
   "source": [
    "### Data generator"
   ]
  },
  {
   "cell_type": "code",
   "execution_count": 32,
   "metadata": {},
   "outputs": [],
   "source": [
    "class CPCDataGenerator():\n",
    "    def __init__(self):\n",
    "        self.data_cols = ['target_posX', 'target_posY', 'target_posZ', \n",
    "                          'target_rotX', 'target_rotY', 'target_rotZ', 'target_rotW', \n",
    "                          'hand_posX', 'hand_posY', 'hand_posZ']\n",
    "        self.output_shapes = ({\n",
    "            'input_1': (None, cfg.input_width, cfg.chunk_size, 10),\n",
    "            'input_2': (None, cfg.output_width, cfg.chunk_size, 10)\n",
    "        }, (None,))\n",
    "        self.output_types = ({'input_1': tf.float32, 'input_2': tf.float32}, tf.int64)\n",
    "        self.stores = {f: pd.HDFStore(f'{base_path}/data/{f}.h5') for f in ['train', 'dev', 'test']}\n",
    "        self.sessions = {\n",
    "            'train': self.stores['train'].select_column('df', 'id').unique().tolist(),\n",
    "            'dev': self.stores['dev'].select_column('df', 'id').unique().tolist(),\n",
    "            'test': self.stores['test'].select_column('df', 'id').unique().tolist(),\n",
    "        }\n",
    "\n",
    "    def generate_train(self):\n",
    "        return self.generate('train')\n",
    "\n",
    "    def generate_dev(self):\n",
    "        return self.generate('dev')\n",
    "\n",
    "    def generate_test(self):\n",
    "        return self.generate('test')\n",
    "\n",
    "    @property\n",
    "    def train(self):\n",
    "        return tf.data.Dataset.from_generator(self.generate_train, output_types=self.output_types, output_shapes=self.output_shapes)\n",
    "\n",
    "    @property\n",
    "    def dev(self):\n",
    "        return tf.data.Dataset.from_generator(self.generate_dev, output_types=self.output_types, output_shapes=self.output_shapes)\n",
    "\n",
    "    @property\n",
    "    def test(self):\n",
    "        return tf.data.Dataset.from_generator(self.generate_test, output_types=self.output_types, output_shapes=self.output_shapes)\n",
    "\n",
    "    def generate(self, type):\n",
    "        store = self.stores[type]\n",
    "        sessions = self.sessions[type]\n",
    "        random.shuffle(sessions)\n",
    "        for i in range(len(sessions)):\n",
    "            df = store.select('df', 'id=%r' % sessions[i])\n",
    "            assert df.index.values[0][0] == df.index.values[-1][0]\n",
    "            steps = df.index.get_level_values(1).to_numpy()[:, np.newaxis].astype(int)\n",
    "            data = df[self.data_cols].to_numpy()\n",
    "            data = np.concatenate([steps, data], axis=-1)\n",
    "            ds = self.make_window_dataset(data)\n",
    "            for x_input, x_output, steps in ds:\n",
    "                x_input, x_output, y = self.prepare_batch(x_input, x_output)\n",
    "                yield {'input_1': x_input, 'input_2': x_output}, y\n",
    "\n",
    "    def generate_negative_samples(self, x_input, x_output):\n",
    "        batch_size, output_width, _, _ = tf.shape(x_output)\n",
    "        session = random.choice(self.sessions['train'])\n",
    "        df = self.stores['train'].select('df', 'id=%r' % session)\n",
    "        data = df[self.data_cols].to_numpy()\n",
    "        data = data[:(data.shape[0] // cfg.chunk_size * cfg.chunk_size), :]\n",
    "        data = data.reshape((-1, cfg.chunk_size, 10))\n",
    "        indices = np.random.choice(data.shape[0], size=(batch_size, output_width))\n",
    "        x_output = data[indices]\n",
    "        return x_input, x_output\n",
    "\n",
    "    def prepare_batch(self, x_input, x_output):\n",
    "        batch_size = tf.shape(x_input)[0]\n",
    "        y_pos = tf.ones(shape=(batch_size // 2,))\n",
    "        y_neg = tf.zeros(shape=(batch_size // 2,))\n",
    "        y = tf.concat([y_pos, y_neg], axis=0)\n",
    "        x_input_neg = x_input[:batch_size // 2, :, :]\n",
    "        x_output_pos = x_output[:batch_size // 2, :, :]\n",
    "        x_output_neg = x_output[batch_size // 2:, :, :]\n",
    "        x_input_neg, x_output_neg = self.generate_negative_samples(x_input_neg, x_output_neg)\n",
    "        x_output = tf.concat([x_output_pos, x_output_neg], axis=0)\n",
    "        indices = tf.random.shuffle(tf.range(batch_size))\n",
    "        x_input = tf.gather(x_input, indices)\n",
    "        x_output = tf.gather(x_output, indices)\n",
    "        y = tf.gather(y, indices)\n",
    "        return x_input, x_output, y\n",
    "\n",
    "    def split_window(self, window):\n",
    "        batch_size = tf.shape(window)[0]\n",
    "        steps = window[:, cfg.input_width:, 0]\n",
    "        window = window[:, :, 1:]\n",
    "        input_width = cfg.input_width * cfg.chunk_size\n",
    "        x_input = tf.reshape(window[:, :input_width, :], (batch_size, cfg.input_width, cfg.chunk_size, 10))\n",
    "        x_output = tf.reshape(window[:, input_width:, :], (batch_size, cfg.output_width, cfg.chunk_size, 10))\n",
    "        x_input.set_shape([None, cfg.input_width, cfg.chunk_size, 10])\n",
    "        x_output.set_shape([None, cfg.output_width, cfg.chunk_size, 10])\n",
    "        return x_input, x_output, steps\n",
    "\n",
    "    def make_window_dataset(self, window):\n",
    "        window = np.array(window, dtype=np.float32)\n",
    "        total_width = (cfg.input_width + cfg.output_width) * cfg.chunk_size\n",
    "        ds = tf.keras.preprocessing.timeseries_dataset_from_array(\n",
    "            data=window,\n",
    "            targets=None,\n",
    "            sequence_length=total_width,\n",
    "            sequence_stride=cfg.stride,\n",
    "            sampling_rate=cfg.sampling_rate,\n",
    "            shuffle=True,\n",
    "            batch_size=cfg.batch_size,\n",
    "            end_index=window.shape[0] - total_width\n",
    "        )\n",
    "        ds = ds.map(self.split_window)\n",
    "        return ds\n",
    "    \n",
    "data_generator = CPCDataGenerator()"
   ]
  },
  {
   "cell_type": "markdown",
   "metadata": {},
   "source": [
    "<b>Visualize the data</b>"
   ]
  },
  {
   "cell_type": "code",
   "execution_count": 35,
   "metadata": {},
   "outputs": [
    {
     "data": {
      "image/png": "[encoded data removed]",
      "text/plain": [
       "<Figure size 576x576 with 3 Axes>"
      ]
     },
     "metadata": {
      "needs_background": "light"
     },
     "output_type": "display_data"
    }
   ],
   "source": [
    "import matplotlib.pyplot as plt\n",
    "iterator = iter(data_generator.train)\n",
    "fig, ax = plt.subplots(3, 1, figsize=(8, 8), sharex=True)\n",
    "for i in range(3):\n",
    "    inputs, label = next(iterator)\n",
    "    x, y = inputs['input_1'], inputs['input_2']\n",
    "    input_target_pos_x = x[0,:,:,0].numpy().flatten()\n",
    "    input_target_pos_y = x[0,:,:,1].numpy().flatten()\n",
    "    output_target_pos_x = y[0,:,:,0].numpy().flatten()\n",
    "    output_target_pos_y = y[0,:,:,1].numpy().flatten()\n",
    "    input_width = cfg.input_width * cfg.chunk_size\n",
    "    output_width = cfg.output_width * cfg.chunk_size\n",
    "    input_range = np.arange(0, input_width)\n",
    "    output_range = np.arange(input_width, input_width + output_width)\n",
    "    ax[i].plot(input_range, input_target_pos_x, label='input x')\n",
    "    ax[i].plot(output_range, output_target_pos_x, label='output x')\n",
    "    ax[i].plot(input_range, input_target_pos_y, label='input y')\n",
    "    ax[i].plot(output_range, output_target_pos_y, label='output y')\n",
    "    if i == 0:\n",
    "        ax[i].legend()\n",
    "    ax[i].title.set_text('Contrastive label: ' + str(label[0].numpy()))\n",
    "plt.show()"
   ]
  },
  {
   "cell_type": "markdown",
   "metadata": {},
   "source": [
    "<b>Code for the CPC model</b>"
   ]
  },
  {
   "cell_type": "code",
   "execution_count": 36,
   "metadata": {},
   "outputs": [],
   "source": [
    "class CPCModel(tf.keras.models.Model):\n",
    "    def __init__(self):\n",
    "        super().__init__()\n",
    "        self.encoder = tf.keras.models.Sequential([\n",
    "            tf.keras.layers.Conv1D(cfg.filters, 3, activation='relu'),\n",
    "            tf.keras.layers.Flatten(),\n",
    "            tf.keras.layers.Dense(cfg.hidden_width, activation='relu')\n",
    "        ])\n",
    "        self.encoder_layer = tf.keras.layers.TimeDistributed(self.encoder)\n",
    "        self.lstm_cell = tf.keras.layers.LSTMCell(cfg.hidden_width)\n",
    "        self.lstm_rnn = tf.keras.layers.RNN(self.lstm_cell, return_state=True)\n",
    "        self.output_layer = tf.keras.layers.Dense(cfg.hidden_width, activation='relu')\n",
    "\n",
    "    def warmup(self, x):\n",
    "        x, *state = self.lstm_rnn(x)\n",
    "        return x, state\n",
    "\n",
    "    def call(self, inputs, training=None):\n",
    "        x_input = inputs['input_1']\n",
    "        x_output = inputs['input_2']\n",
    "        x_input_encoded = self.encoder_layer(x_input)\n",
    "        x_output_encoded = self.encoder_layer(x_output)\n",
    "\n",
    "        predictions = []\n",
    "        x, state = self.warmup(x_input_encoded)\n",
    "\n",
    "        output = self.output_layer(x)\n",
    "        predictions.append(output)\n",
    "\n",
    "        for _ in range(1, cfg.output_width):\n",
    "            x, state = self.lstm_cell(x, states=state, training=training)\n",
    "            output = self.output_layer(x)\n",
    "            predictions.append(output)\n",
    "\n",
    "        predictions = tf.stack(predictions, axis=1)\n",
    "        y = tf.linalg.norm(predictions - x_output_encoded)\n",
    "        return y"
   ]
  },
  {
   "cell_type": "markdown",
   "metadata": {},
   "source": [
    "<b>Train the CPC model</b>"
   ]
  },
  {
   "cell_type": "code",
   "execution_count": 37,
   "metadata": {},
   "outputs": [],
   "source": [
    "weights_path = f'{base_path}/outputs/cpc/weights.h5' #SET WEIGHTS PATH"
   ]
  },
  {
   "cell_type": "code",
   "execution_count": 38,
   "metadata": {},
   "outputs": [
    {
     "name": "stdout",
     "output_type": "stream",
     "text": [
      "Loaded weights from path C:\\Users\\dylan\\Documents\\Simulated/outputs/cpc/weights.h5\n"
     ]
    }
   ],
   "source": [
    "model = CPCModel()\n",
    "model(next(iter(data_generator.train))[0])\n",
    "model.load_weights(weights_path)\n",
    "print(f'Loaded weights from path {weights_path}')"
   ]
  },
  {
   "cell_type": "markdown",
   "metadata": {},
   "source": [
    "### Evaluate on linear probe\n",
    "\n",
    "<font color=\"red\"><b>Using the same generator as in the chunked model, load if necessary</b></font>\n",
    "\n",
    "<b>Build the probe</b>"
   ]
  },
  {
   "cell_type": "code",
   "execution_count": 39,
   "metadata": {},
   "outputs": [],
   "source": [
    "class CPCProbe(tf.keras.Model):\n",
    "    def __init__(self, model, use_lstm):\n",
    "        super().__init__()\n",
    "        self.model = model\n",
    "        self.use_lstm = use_lstm\n",
    "        self.rnn = tf.keras.layers.RNN(self.model.lstm_cell, return_sequences=True)\n",
    "        self.dense = tf.keras.layers.Dense(10, activation='softmax')\n",
    "        self.model.trainable = False\n",
    "        self.rnn.trainable = False\n",
    "\n",
    "    def call(self, x):\n",
    "        x = self.model.encoder_layer(x)\n",
    "        if self.use_lstm:\n",
    "            x = self.rnn(x)\n",
    "        return self.dense(x)"
   ]
  },
  {
   "cell_type": "markdown",
   "metadata": {},
   "source": [
    "<b>Train the probe</b>"
   ]
  },
  {
   "cell_type": "code",
   "execution_count": 40,
   "metadata": {},
   "outputs": [],
   "source": [
    "probe_weights_path = f'{base_path}/outputs/cpc/probe_weights.h5' #SET PROBE WEIGHTS PATH"
   ]
  },
  {
   "cell_type": "code",
   "execution_count": 41,
   "metadata": {},
   "outputs": [
    {
     "name": "stdout",
     "output_type": "stream",
     "text": [
      "Loaded weights from path: C:\\Users\\dylan\\Documents\\Simulated/outputs/cpc/probe_weights.h5\n"
     ]
    }
   ],
   "source": [
    "probe_model = CPCProbe(model, False)\n",
    "probe_model(next(iter(probe_generator.train))[0])\n",
    "probe_model.load_weights(probe_weights_path)\n",
    "print(f'Loaded weights from path: {probe_weights_path}')"
   ]
  },
  {
   "cell_type": "markdown",
   "metadata": {},
   "source": [
    "<b>Evaluate the probe</b>"
   ]
  },
  {
   "cell_type": "code",
   "execution_count": 42,
   "metadata": {},
   "outputs": [
    {
     "name": "stderr",
     "output_type": "stream",
     "text": [
      "100it [00:26,  3.78it/s]\n"
     ]
    }
   ],
   "source": [
    "y_true = []\n",
    "y_pred = []\n",
    "for x, y in tqdm(probe_generator.dev):\n",
    "    y_ = probe_model(x)\n",
    "    y_ = tf.math.argmax(y_, axis=-1)\n",
    "    y = tf.reshape(y, (-1,))\n",
    "    y_ = tf.reshape(y_, (-1,))\n",
    "    y_true.append(y)\n",
    "    y_pred.append(y_)\n",
    "y_true = tf.concat(y_true, axis=0)\n",
    "y_pred = tf.concat(y_pred, axis=0)"
   ]
  },
  {
   "cell_type": "code",
   "execution_count": 43,
   "metadata": {},
   "outputs": [
    {
     "name": "stdout",
     "output_type": "stream",
     "text": [
      "Accuracy: 0.70\n",
      "Precision: 0.08\n",
      "Recall: 0.11\n",
      "F-score: 0.09\n"
     ]
    },
    {
     "name": "stderr",
     "output_type": "stream",
     "text": [
      "C:\\ProgramData\\Anaconda3\\lib\\site-packages\\sklearn\\metrics\\_classification.py:1221: UndefinedMetricWarning: Precision and F-score are ill-defined and being set to 0.0 in labels with no predicted samples. Use `zero_division` parameter to control this behavior.\n",
      "  _warn_prf(average, modifier, msg_start, len(result))\n"
     ]
    }
   ],
   "source": [
    "acc = accuracy_score(y_true, y_pred)\n",
    "scores = precision_recall_fscore_support(y_true, y_pred, average='macro')\n",
    "print(f'Accuracy: {acc:.2f}\\nPrecision: {scores[0]:.2f}\\nRecall: {scores[1]:.2f}\\nF-score: {scores[2]:.2f}')"
   ]
  },
  {
   "cell_type": "code",
   "execution_count": null,
   "metadata": {},
   "outputs": [],
   "source": []
  }
 ],
 "metadata": {
  "kernelspec": {
   "display_name": "Python 3",
   "language": "python",
   "name": "python3"
  },
  "language_info": {
   "codemirror_mode": {
    "name": "ipython",
    "version": 3
   },
   "file_extension": ".py",
   "mimetype": "text/x-python",
   "name": "python",
   "nbconvert_exporter": "python",
   "pygments_lexer": "ipython3",
   "version": "3.8.3"
  }
 },
 "nbformat": 4,
 "nbformat_minor": 4
}
